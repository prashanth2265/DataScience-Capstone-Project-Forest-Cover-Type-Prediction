{
 "cells": [
  {
   "cell_type": "code",
   "execution_count": 1,
   "metadata": {},
   "outputs": [],
   "source": [
    "import pandas as pd\n",
    "import numpy as np\n",
    "import seaborn as sns\n",
    "import matplotlib.pyplot as plt\n",
    "import warnings\n",
    "warnings.filterwarnings(\"ignore\")\n",
    "from scipy import stats\n",
    "from imblearn.over_sampling import SMOTE\n",
    "from sklearn.metrics import confusion_matrix\n",
    "from sklearn.preprocessing import StandardScaler\n",
    "from sklearn.model_selection import train_test_split\n",
    "from sklearn.linear_model import LogisticRegression\n",
    "from sklearn.model_selection import RandomizedSearchCV\n",
    "from sklearn.metrics import recall_score\n",
    "from sklearn.tree import DecisionTreeClassifier\n",
    "from sklearn.ensemble import RandomForestClassifier\n",
    "from sklearn.naive_bayes import GaussianNB\n",
    "from sklearn.neighbors import KNeighborsClassifier\n",
    "import scipy.stats as st\n",
    "import statsmodels.api as sm"
   ]
  },
  {
   "cell_type": "code",
   "execution_count": 2,
   "metadata": {},
   "outputs": [],
   "source": [
    "df=pd.read_csv(\"C:/Users/prash/Pictures/Group 4_ForestCoverType/covtype.csv\")\n",
    "df.columns=['Elevation','Aspect','Slope','Horizontal_Distance_To_Hydrology',\n",
    "                        'Vertical_Distance_To_Hydrology','Horizontal_Distance_To_Roadways',\n",
    "                        'Hillshade_9am','Hillshade_Noon','Hillshade_3pm',\n",
    "                        'Horizontal_Distance_To_Fire_Points','Rawah_Wilderness_Area','Neota_Wilderness_Area',\n",
    "            'Comanche_Peak_Wilderness_Area','Cache_la_Poudre_Wilderness_Area',\"Soil_code_2702\",\n",
    "                        \"Soil_code_2703\",\"Soil_code_2704\",\"Soil_code_2705\",\"Soil_code_2706\",\"Soil_code_2717\",\n",
    "                        \"Soil_code_3501\",\"Soil_code_3502\",\"Soil_code_4201\",\"Soil_code_4703\",\"Soil_code_4704\",\n",
    "                        \"Soil_code_4744\",\"Soil_code_4758\",\"Soil_code_5101\",\"Soil_code_5151\",\"Soil_code_6101\",\n",
    "                        \"Soil_code_6102\",\"Soil_code_6731\",\"Soil_code_7101\",\"Soil_code_7102\",\"Soil_code_7103\",\n",
    "                        \"Soil_code_7201\",\"Soil_code_7202\",\"Soil_code_7700\",\"Soil_code_7701\",\"Soil_code_7702\",\n",
    "                        \"Soil_code_7709\",\"Soil_code_7710\",\"Soil_code_7745\",\"Soil_code_7746\",\"Soil_code_7755\",\n",
    "                        \"Soil_code_7756\",\"Soil_code_7757\",\"Soil_code_7790\",\"Soil_code_8703\",\"Soil_code_8707\",\n",
    "                        \"Soil_code_8708\",\"Soil_code_8771\",\"Soil_code_8772\",\"Soil_code_8776\",'Cover_Type']"
   ]
  },
  {
   "cell_type": "code",
   "execution_count": 3,
   "metadata": {},
   "outputs": [],
   "source": [
    "df['Distance_To_Hydrology']=np.round(np.sqrt(df['Horizontal_Distance_To_Hydrology']**2+\n",
    "                                             df['Vertical_Distance_To_Hydrology']**2),2)\n",
    "df['Hillshade']=np.round((df['Hillshade_9am']+df['Hillshade_Noon']+\n",
    "                                  df['Hillshade_3pm'])/3,2)\n",
    "df.drop(['Horizontal_Distance_To_Hydrology','Vertical_Distance_To_Hydrology',\n",
    "          'Hillshade_9am','Hillshade_Noon','Hillshade_3pm'], axis=1, inplace=True)"
   ]
  },
  {
   "cell_type": "code",
   "execution_count": 4,
   "metadata": {},
   "outputs": [],
   "source": [
    "#Creating CG Zones\n",
    "soil=['Soil_code_2702', 'Soil_code_2703',\n",
    "       'Soil_code_2704', 'Soil_code_2705', 'Soil_code_2706', 'Soil_code_2717',\n",
    "       'Soil_code_3501', 'Soil_code_3502', 'Soil_code_4201', 'Soil_code_4703',\n",
    "       'Soil_code_4704', 'Soil_code_4744', 'Soil_code_4758', 'Soil_code_5101',\n",
    "       'Soil_code_5151', 'Soil_code_6101', 'Soil_code_6102', 'Soil_code_6731',\n",
    "       'Soil_code_7101', 'Soil_code_7102', 'Soil_code_7103', 'Soil_code_7201',\n",
    "       'Soil_code_7202', 'Soil_code_7700', 'Soil_code_7701', 'Soil_code_7702',\n",
    "       'Soil_code_7709', 'Soil_code_7710', 'Soil_code_7745', 'Soil_code_7746',\n",
    "       'Soil_code_7755', 'Soil_code_7756', 'Soil_code_7757', 'Soil_code_7790',\n",
    "       'Soil_code_8703', 'Soil_code_8707', 'Soil_code_8708', 'Soil_code_8771',\n",
    "       'Soil_code_8772', 'Soil_code_8776']\n",
    "df['cgzone']=df[soil].idxmax(axis=1) # reconstrucing the Dummies\n",
    "def cg(x):\n",
    "    if x[-4:-2]=='27':\n",
    "        return 'cgzone_27'\n",
    "    if x[-4:-2]=='35':\n",
    "        return 'cgzone_35'\n",
    "    if x[-4:-2]=='42':\n",
    "        return 'cgzone_42'\n",
    "    if x[-4:-2]=='47':\n",
    "        return 'cgzone_47'\n",
    "    if x[-4:-2]=='51':\n",
    "        return 'cgzone_51'\n",
    "    if x[-4:-2]=='61':\n",
    "        return 'cgzone_61'\n",
    "    if x[-4:-2]=='67':\n",
    "        return 'cgzone_67'\n",
    "    if x[-4:-2]=='71':\n",
    "        return 'cgzone_71'\n",
    "    if x[-4:-2]=='72':\n",
    "        return 'cgzone_72'\n",
    "    if x[-4:-2]=='77':\n",
    "        return 'cgzone_77'\n",
    "    if x[-4:-2]=='87':\n",
    "        return 'cgzone_87'\n",
    "df['cgzone']=df['cgzone'].apply(lambda x:cg(x))\n",
    "dummies = pd.get_dummies(df['cgzone']) # Converting CG to Dummies\n",
    "\n",
    "df=pd.concat((df,dummies), axis=1)\n",
    "df.drop('cgzone', axis=1, inplace=True)\n",
    "df.drop(soil,axis=1, inplace=True) # Dropping the Soil 40 Soil Types\n"
   ]
  },
  {
   "cell_type": "code",
   "execution_count": 5,
   "metadata": {},
   "outputs": [],
   "source": [
    "pd.set_option('display.max_columns',None)\n",
    "pd.set_option('max_colwidth',100)"
   ]
  },
  {
   "cell_type": "code",
   "execution_count": 6,
   "metadata": {},
   "outputs": [
    {
     "data": {
      "text/html": [
       "<div>\n",
       "<style scoped>\n",
       "    .dataframe tbody tr th:only-of-type {\n",
       "        vertical-align: middle;\n",
       "    }\n",
       "\n",
       "    .dataframe tbody tr th {\n",
       "        vertical-align: top;\n",
       "    }\n",
       "\n",
       "    .dataframe thead th {\n",
       "        text-align: right;\n",
       "    }\n",
       "</style>\n",
       "<table border=\"1\" class=\"dataframe\">\n",
       "  <thead>\n",
       "    <tr style=\"text-align: right;\">\n",
       "      <th></th>\n",
       "      <th>Elevation</th>\n",
       "      <th>Aspect</th>\n",
       "      <th>Slope</th>\n",
       "      <th>Horizontal_Distance_To_Roadways</th>\n",
       "      <th>Horizontal_Distance_To_Fire_Points</th>\n",
       "      <th>Rawah_Wilderness_Area</th>\n",
       "      <th>Neota_Wilderness_Area</th>\n",
       "      <th>Comanche_Peak_Wilderness_Area</th>\n",
       "      <th>Cache_la_Poudre_Wilderness_Area</th>\n",
       "      <th>Cover_Type</th>\n",
       "      <th>Distance_To_Hydrology</th>\n",
       "      <th>Hillshade</th>\n",
       "      <th>cgzone_27</th>\n",
       "      <th>cgzone_35</th>\n",
       "      <th>cgzone_42</th>\n",
       "      <th>cgzone_47</th>\n",
       "      <th>cgzone_51</th>\n",
       "      <th>cgzone_61</th>\n",
       "      <th>cgzone_67</th>\n",
       "      <th>cgzone_71</th>\n",
       "      <th>cgzone_72</th>\n",
       "      <th>cgzone_77</th>\n",
       "      <th>cgzone_87</th>\n",
       "    </tr>\n",
       "  </thead>\n",
       "  <tbody>\n",
       "    <tr>\n",
       "      <td>0</td>\n",
       "      <td>2590</td>\n",
       "      <td>56</td>\n",
       "      <td>2</td>\n",
       "      <td>390</td>\n",
       "      <td>6225</td>\n",
       "      <td>1</td>\n",
       "      <td>0</td>\n",
       "      <td>0</td>\n",
       "      <td>0</td>\n",
       "      <td>5</td>\n",
       "      <td>212.08</td>\n",
       "      <td>202.00</td>\n",
       "      <td>0</td>\n",
       "      <td>0</td>\n",
       "      <td>0</td>\n",
       "      <td>0</td>\n",
       "      <td>0</td>\n",
       "      <td>0</td>\n",
       "      <td>0</td>\n",
       "      <td>0</td>\n",
       "      <td>0</td>\n",
       "      <td>1</td>\n",
       "      <td>0</td>\n",
       "    </tr>\n",
       "    <tr>\n",
       "      <td>1</td>\n",
       "      <td>2804</td>\n",
       "      <td>139</td>\n",
       "      <td>9</td>\n",
       "      <td>3180</td>\n",
       "      <td>6121</td>\n",
       "      <td>1</td>\n",
       "      <td>0</td>\n",
       "      <td>0</td>\n",
       "      <td>0</td>\n",
       "      <td>2</td>\n",
       "      <td>275.77</td>\n",
       "      <td>202.33</td>\n",
       "      <td>0</td>\n",
       "      <td>0</td>\n",
       "      <td>0</td>\n",
       "      <td>1</td>\n",
       "      <td>0</td>\n",
       "      <td>0</td>\n",
       "      <td>0</td>\n",
       "      <td>0</td>\n",
       "      <td>0</td>\n",
       "      <td>0</td>\n",
       "      <td>0</td>\n",
       "    </tr>\n",
       "    <tr>\n",
       "      <td>2</td>\n",
       "      <td>2785</td>\n",
       "      <td>155</td>\n",
       "      <td>18</td>\n",
       "      <td>3090</td>\n",
       "      <td>6211</td>\n",
       "      <td>1</td>\n",
       "      <td>0</td>\n",
       "      <td>0</td>\n",
       "      <td>0</td>\n",
       "      <td>2</td>\n",
       "      <td>269.24</td>\n",
       "      <td>199.33</td>\n",
       "      <td>0</td>\n",
       "      <td>0</td>\n",
       "      <td>0</td>\n",
       "      <td>0</td>\n",
       "      <td>0</td>\n",
       "      <td>0</td>\n",
       "      <td>0</td>\n",
       "      <td>0</td>\n",
       "      <td>0</td>\n",
       "      <td>1</td>\n",
       "      <td>0</td>\n",
       "    </tr>\n",
       "    <tr>\n",
       "      <td>3</td>\n",
       "      <td>2595</td>\n",
       "      <td>45</td>\n",
       "      <td>2</td>\n",
       "      <td>391</td>\n",
       "      <td>6172</td>\n",
       "      <td>1</td>\n",
       "      <td>0</td>\n",
       "      <td>0</td>\n",
       "      <td>0</td>\n",
       "      <td>5</td>\n",
       "      <td>153.00</td>\n",
       "      <td>201.33</td>\n",
       "      <td>0</td>\n",
       "      <td>0</td>\n",
       "      <td>0</td>\n",
       "      <td>0</td>\n",
       "      <td>0</td>\n",
       "      <td>0</td>\n",
       "      <td>0</td>\n",
       "      <td>0</td>\n",
       "      <td>0</td>\n",
       "      <td>1</td>\n",
       "      <td>0</td>\n",
       "    </tr>\n",
       "    <tr>\n",
       "      <td>4</td>\n",
       "      <td>2579</td>\n",
       "      <td>132</td>\n",
       "      <td>6</td>\n",
       "      <td>67</td>\n",
       "      <td>6031</td>\n",
       "      <td>1</td>\n",
       "      <td>0</td>\n",
       "      <td>0</td>\n",
       "      <td>0</td>\n",
       "      <td>2</td>\n",
       "      <td>300.37</td>\n",
       "      <td>202.33</td>\n",
       "      <td>0</td>\n",
       "      <td>0</td>\n",
       "      <td>0</td>\n",
       "      <td>0</td>\n",
       "      <td>0</td>\n",
       "      <td>0</td>\n",
       "      <td>0</td>\n",
       "      <td>0</td>\n",
       "      <td>0</td>\n",
       "      <td>1</td>\n",
       "      <td>0</td>\n",
       "    </tr>\n",
       "  </tbody>\n",
       "</table>\n",
       "</div>"
      ],
      "text/plain": [
       "   Elevation  Aspect  Slope  Horizontal_Distance_To_Roadways  \\\n",
       "0       2590      56      2                              390   \n",
       "1       2804     139      9                             3180   \n",
       "2       2785     155     18                             3090   \n",
       "3       2595      45      2                              391   \n",
       "4       2579     132      6                               67   \n",
       "\n",
       "   Horizontal_Distance_To_Fire_Points  Rawah_Wilderness_Area  \\\n",
       "0                                6225                      1   \n",
       "1                                6121                      1   \n",
       "2                                6211                      1   \n",
       "3                                6172                      1   \n",
       "4                                6031                      1   \n",
       "\n",
       "   Neota_Wilderness_Area  Comanche_Peak_Wilderness_Area  \\\n",
       "0                      0                              0   \n",
       "1                      0                              0   \n",
       "2                      0                              0   \n",
       "3                      0                              0   \n",
       "4                      0                              0   \n",
       "\n",
       "   Cache_la_Poudre_Wilderness_Area  Cover_Type  Distance_To_Hydrology  \\\n",
       "0                                0           5                 212.08   \n",
       "1                                0           2                 275.77   \n",
       "2                                0           2                 269.24   \n",
       "3                                0           5                 153.00   \n",
       "4                                0           2                 300.37   \n",
       "\n",
       "   Hillshade  cgzone_27  cgzone_35  cgzone_42  cgzone_47  cgzone_51  \\\n",
       "0     202.00          0          0          0          0          0   \n",
       "1     202.33          0          0          0          1          0   \n",
       "2     199.33          0          0          0          0          0   \n",
       "3     201.33          0          0          0          0          0   \n",
       "4     202.33          0          0          0          0          0   \n",
       "\n",
       "   cgzone_61  cgzone_67  cgzone_71  cgzone_72  cgzone_77  cgzone_87  \n",
       "0          0          0          0          0          1          0  \n",
       "1          0          0          0          0          0          0  \n",
       "2          0          0          0          0          1          0  \n",
       "3          0          0          0          0          1          0  \n",
       "4          0          0          0          0          1          0  "
      ]
     },
     "execution_count": 6,
     "metadata": {},
     "output_type": "execute_result"
    }
   ],
   "source": [
    "df.head()"
   ]
  },
  {
   "cell_type": "code",
   "execution_count": 7,
   "metadata": {},
   "outputs": [
    {
     "data": {
      "text/plain": [
       "(581011, 23)"
      ]
     },
     "execution_count": 7,
     "metadata": {},
     "output_type": "execute_result"
    }
   ],
   "source": [
    "df.shape"
   ]
  },
  {
   "cell_type": "code",
   "execution_count": 8,
   "metadata": {},
   "outputs": [],
   "source": [
    "numeric=['Elevation', 'Aspect', 'Slope', 'Horizontal_Distance_To_Roadways',\n",
    "       'Horizontal_Distance_To_Fire_Points',\n",
    "       'Distance_To_Hydrology', 'Hillshade']"
   ]
  },
  {
   "cell_type": "markdown",
   "metadata": {},
   "source": [
    "# Before Statification of Split"
   ]
  },
  {
   "cell_type": "code",
   "execution_count": 9,
   "metadata": {},
   "outputs": [
    {
     "data": {
      "text/html": [
       "<div>\n",
       "<style scoped>\n",
       "    .dataframe tbody tr th:only-of-type {\n",
       "        vertical-align: middle;\n",
       "    }\n",
       "\n",
       "    .dataframe tbody tr th {\n",
       "        vertical-align: top;\n",
       "    }\n",
       "\n",
       "    .dataframe thead th {\n",
       "        text-align: right;\n",
       "    }\n",
       "</style>\n",
       "<table border=\"1\" class=\"dataframe\">\n",
       "  <thead>\n",
       "    <tr style=\"text-align: right;\">\n",
       "      <th></th>\n",
       "      <th>Population</th>\n",
       "      <th>Train</th>\n",
       "      <th>Test</th>\n",
       "    </tr>\n",
       "  </thead>\n",
       "  <tbody>\n",
       "    <tr>\n",
       "      <td>2</td>\n",
       "      <td>48.760006</td>\n",
       "      <td>48.747378</td>\n",
       "      <td>48.789471</td>\n",
       "    </tr>\n",
       "    <tr>\n",
       "      <td>1</td>\n",
       "      <td>36.460583</td>\n",
       "      <td>36.444172</td>\n",
       "      <td>36.498876</td>\n",
       "    </tr>\n",
       "    <tr>\n",
       "      <td>3</td>\n",
       "      <td>6.153756</td>\n",
       "      <td>6.162176</td>\n",
       "      <td>6.134111</td>\n",
       "    </tr>\n",
       "    <tr>\n",
       "      <td>7</td>\n",
       "      <td>3.530054</td>\n",
       "      <td>3.550468</td>\n",
       "      <td>3.482422</td>\n",
       "    </tr>\n",
       "    <tr>\n",
       "      <td>6</td>\n",
       "      <td>2.989100</td>\n",
       "      <td>2.991343</td>\n",
       "      <td>2.983867</td>\n",
       "    </tr>\n",
       "    <tr>\n",
       "      <td>5</td>\n",
       "      <td>1.633704</td>\n",
       "      <td>1.630412</td>\n",
       "      <td>1.641385</td>\n",
       "    </tr>\n",
       "    <tr>\n",
       "      <td>4</td>\n",
       "      <td>0.472797</td>\n",
       "      <td>0.474051</td>\n",
       "      <td>0.469869</td>\n",
       "    </tr>\n",
       "  </tbody>\n",
       "</table>\n",
       "</div>"
      ],
      "text/plain": [
       "   Population      Train       Test\n",
       "2   48.760006  48.747378  48.789471\n",
       "1   36.460583  36.444172  36.498876\n",
       "3    6.153756   6.162176   6.134111\n",
       "7    3.530054   3.550468   3.482422\n",
       "6    2.989100   2.991343   2.983867\n",
       "5    1.633704   1.630412   1.641385\n",
       "4    0.472797   0.474051   0.469869"
      ]
     },
     "execution_count": 9,
     "metadata": {},
     "output_type": "execute_result"
    }
   ],
   "source": [
    "from sklearn.model_selection import train_test_split\n",
    "X=df.drop('Cover_Type',1)\n",
    "y=df['Cover_Type']\n",
    "X_train, X_test, y_train, y_test = train_test_split(X, y, test_size=0.30, random_state=42)\n",
    "# dd=pd.concat([X_working,y_working],axis=1)\n",
    "pd.concat([df['Cover_Type'].value_counts(normalize=True).mul(100),y_train.value_counts(normalize=True).mul(100)\n",
    "          ,y_test.value_counts(normalize=True).mul(100)],axis=1, keys=['Population','Train','Test'])"
   ]
  },
  {
   "cell_type": "markdown",
   "metadata": {},
   "source": [
    "# After Statification of split"
   ]
  },
  {
   "cell_type": "code",
   "execution_count": 10,
   "metadata": {},
   "outputs": [
    {
     "data": {
      "text/html": [
       "<div>\n",
       "<style scoped>\n",
       "    .dataframe tbody tr th:only-of-type {\n",
       "        vertical-align: middle;\n",
       "    }\n",
       "\n",
       "    .dataframe tbody tr th {\n",
       "        vertical-align: top;\n",
       "    }\n",
       "\n",
       "    .dataframe thead th {\n",
       "        text-align: right;\n",
       "    }\n",
       "</style>\n",
       "<table border=\"1\" class=\"dataframe\">\n",
       "  <thead>\n",
       "    <tr style=\"text-align: right;\">\n",
       "      <th></th>\n",
       "      <th>Population</th>\n",
       "      <th>Train</th>\n",
       "      <th>Test</th>\n",
       "    </tr>\n",
       "  </thead>\n",
       "  <tbody>\n",
       "    <tr>\n",
       "      <td>2</td>\n",
       "      <td>48.760006</td>\n",
       "      <td>48.759918</td>\n",
       "      <td>48.760212</td>\n",
       "    </tr>\n",
       "    <tr>\n",
       "      <td>1</td>\n",
       "      <td>36.460583</td>\n",
       "      <td>36.460646</td>\n",
       "      <td>36.460437</td>\n",
       "    </tr>\n",
       "    <tr>\n",
       "      <td>3</td>\n",
       "      <td>6.153756</td>\n",
       "      <td>6.153816</td>\n",
       "      <td>6.153617</td>\n",
       "    </tr>\n",
       "    <tr>\n",
       "      <td>7</td>\n",
       "      <td>3.530054</td>\n",
       "      <td>3.530060</td>\n",
       "      <td>3.530039</td>\n",
       "    </tr>\n",
       "    <tr>\n",
       "      <td>6</td>\n",
       "      <td>2.989100</td>\n",
       "      <td>2.989130</td>\n",
       "      <td>2.989031</td>\n",
       "    </tr>\n",
       "    <tr>\n",
       "      <td>5</td>\n",
       "      <td>1.633704</td>\n",
       "      <td>1.633608</td>\n",
       "      <td>1.633927</td>\n",
       "    </tr>\n",
       "    <tr>\n",
       "      <td>4</td>\n",
       "      <td>0.472797</td>\n",
       "      <td>0.472822</td>\n",
       "      <td>0.472737</td>\n",
       "    </tr>\n",
       "  </tbody>\n",
       "</table>\n",
       "</div>"
      ],
      "text/plain": [
       "   Population      Train       Test\n",
       "2   48.760006  48.759918  48.760212\n",
       "1   36.460583  36.460646  36.460437\n",
       "3    6.153756   6.153816   6.153617\n",
       "7    3.530054   3.530060   3.530039\n",
       "6    2.989100   2.989130   2.989031\n",
       "5    1.633704   1.633608   1.633927\n",
       "4    0.472797   0.472822   0.472737"
      ]
     },
     "execution_count": 10,
     "metadata": {},
     "output_type": "execute_result"
    }
   ],
   "source": [
    "from sklearn.model_selection import train_test_split\n",
    "X=df.drop('Cover_Type',1)\n",
    "y=df['Cover_Type']\n",
    "X_train, X_test, y_train, y_test = train_test_split(X, y, test_size=0.30, random_state=42,\n",
    "                                                            stratify=df['Cover_Type'])\n",
    "# dd=pd.concat([X_working,y_working],axis=1)\n",
    "pd.concat([df['Cover_Type'].value_counts(normalize=True).mul(100),y_train.value_counts(normalize=True).mul(100)\n",
    "          ,y_test.value_counts(normalize=True).mul(100)],axis=1, keys=['Population','Train','Test'])"
   ]
  },
  {
   "cell_type": "markdown",
   "metadata": {},
   "source": [
    "# Feature Sellection"
   ]
  },
  {
   "cell_type": "markdown",
   "metadata": {},
   "source": [
    "## Based on Chi2 (Univariate selection)"
   ]
  },
  {
   "cell_type": "code",
   "execution_count": 22,
   "metadata": {
    "scrolled": true
   },
   "outputs": [
    {
     "data": {
      "image/png": "[encoded data removed]",
      "text/plain": [
       "<Figure size 1080x720 with 1 Axes>"
      ]
     },
     "metadata": {
      "needs_background": "light"
     },
     "output_type": "display_data"
    }
   ],
   "source": [
    "from sklearn.feature_selection import SelectKBest\n",
    "from sklearn.feature_selection import chi2\n",
    "X=df[df.columns[5:49]]\n",
    "Y=df['Cover_Type']\n",
    "test = SelectKBest(score_func=chi2, k='all')\n",
    "fit = test.fit(X, Y)\n",
    "scoreschi2=pd.DataFrame(index=X.columns)\n",
    "scoreschi2['Scores']=fit.scores_ \n",
    "scoreschi2['pvalues']=fit.pvalues_\n",
    "scoreschi2['Rank']=scoreschi2['Scores'].rank(method='dense',ascending=False )\n",
    "scoreschi2=scoreschi2.sort_values(by='Rank')\n",
    "scoreschi2.plot(kind='barh', figsize=(15, 10), legend=True, fontsize=12)\n",
    "scoreschi2['Scores']=scoreschi2['Scores'].apply(lambda x\n",
    "                                                : (x/scoreschi2['Scores'].sum()))"
   ]
  },
  {
   "cell_type": "code",
   "execution_count": 23,
   "metadata": {
    "scrolled": true
   },
   "outputs": [
    {
     "data": {
      "text/html": [
       "<div>\n",
       "<style scoped>\n",
       "    .dataframe tbody tr th:only-of-type {\n",
       "        vertical-align: middle;\n",
       "    }\n",
       "\n",
       "    .dataframe tbody tr th {\n",
       "        vertical-align: top;\n",
       "    }\n",
       "\n",
       "    .dataframe thead th {\n",
       "        text-align: right;\n",
       "    }\n",
       "</style>\n",
       "<table border=\"1\" class=\"dataframe\">\n",
       "  <thead>\n",
       "    <tr style=\"text-align: right;\">\n",
       "      <th></th>\n",
       "      <th>Scores</th>\n",
       "      <th>pvalues</th>\n",
       "      <th>Rank</th>\n",
       "    </tr>\n",
       "  </thead>\n",
       "  <tbody>\n",
       "    <tr>\n",
       "      <th>Distance_To_Hydrology</th>\n",
       "      <td>0.590744</td>\n",
       "      <td>0.000000e+00</td>\n",
       "      <td>1.0</td>\n",
       "    </tr>\n",
       "    <tr>\n",
       "      <th>Cover_Type</th>\n",
       "      <td>0.150711</td>\n",
       "      <td>0.000000e+00</td>\n",
       "      <td>2.0</td>\n",
       "    </tr>\n",
       "    <tr>\n",
       "      <th>Cache_la_Poudre_Wilderness_Area</th>\n",
       "      <td>0.080469</td>\n",
       "      <td>0.000000e+00</td>\n",
       "      <td>3.0</td>\n",
       "    </tr>\n",
       "    <tr>\n",
       "      <th>cgzone_27</th>\n",
       "      <td>0.062013</td>\n",
       "      <td>0.000000e+00</td>\n",
       "      <td>4.0</td>\n",
       "    </tr>\n",
       "    <tr>\n",
       "      <th>cgzone_87</th>\n",
       "      <td>0.050758</td>\n",
       "      <td>0.000000e+00</td>\n",
       "      <td>5.0</td>\n",
       "    </tr>\n",
       "    <tr>\n",
       "      <th>cgzone_47</th>\n",
       "      <td>0.016054</td>\n",
       "      <td>0.000000e+00</td>\n",
       "      <td>6.0</td>\n",
       "    </tr>\n",
       "    <tr>\n",
       "      <th>cgzone_72</th>\n",
       "      <td>0.011072</td>\n",
       "      <td>0.000000e+00</td>\n",
       "      <td>7.0</td>\n",
       "    </tr>\n",
       "    <tr>\n",
       "      <th>cgzone_77</th>\n",
       "      <td>0.010455</td>\n",
       "      <td>0.000000e+00</td>\n",
       "      <td>8.0</td>\n",
       "    </tr>\n",
       "    <tr>\n",
       "      <th>Rawah_Wilderness_Area</th>\n",
       "      <td>0.008458</td>\n",
       "      <td>0.000000e+00</td>\n",
       "      <td>9.0</td>\n",
       "    </tr>\n",
       "    <tr>\n",
       "      <th>Hillshade</th>\n",
       "      <td>0.005582</td>\n",
       "      <td>0.000000e+00</td>\n",
       "      <td>10.0</td>\n",
       "    </tr>\n",
       "    <tr>\n",
       "      <th>cgzone_61</th>\n",
       "      <td>0.003914</td>\n",
       "      <td>0.000000e+00</td>\n",
       "      <td>11.0</td>\n",
       "    </tr>\n",
       "    <tr>\n",
       "      <th>cgzone_51</th>\n",
       "      <td>0.003899</td>\n",
       "      <td>0.000000e+00</td>\n",
       "      <td>12.0</td>\n",
       "    </tr>\n",
       "    <tr>\n",
       "      <th>Neota_Wilderness_Area</th>\n",
       "      <td>0.003390</td>\n",
       "      <td>0.000000e+00</td>\n",
       "      <td>13.0</td>\n",
       "    </tr>\n",
       "    <tr>\n",
       "      <th>Comanche_Peak_Wilderness_Area</th>\n",
       "      <td>0.001122</td>\n",
       "      <td>0.000000e+00</td>\n",
       "      <td>14.0</td>\n",
       "    </tr>\n",
       "    <tr>\n",
       "      <th>cgzone_71</th>\n",
       "      <td>0.000589</td>\n",
       "      <td>0.000000e+00</td>\n",
       "      <td>15.0</td>\n",
       "    </tr>\n",
       "    <tr>\n",
       "      <th>cgzone_67</th>\n",
       "      <td>0.000549</td>\n",
       "      <td>0.000000e+00</td>\n",
       "      <td>16.0</td>\n",
       "    </tr>\n",
       "    <tr>\n",
       "      <th>cgzone_42</th>\n",
       "      <td>0.000178</td>\n",
       "      <td>7.408783e-138</td>\n",
       "      <td>17.0</td>\n",
       "    </tr>\n",
       "    <tr>\n",
       "      <th>cgzone_35</th>\n",
       "      <td>0.000042</td>\n",
       "      <td>1.566942e-30</td>\n",
       "      <td>18.0</td>\n",
       "    </tr>\n",
       "  </tbody>\n",
       "</table>\n",
       "</div>"
      ],
      "text/plain": [
       "                                   Scores        pvalues  Rank\n",
       "Distance_To_Hydrology            0.590744   0.000000e+00   1.0\n",
       "Cover_Type                       0.150711   0.000000e+00   2.0\n",
       "Cache_la_Poudre_Wilderness_Area  0.080469   0.000000e+00   3.0\n",
       "cgzone_27                        0.062013   0.000000e+00   4.0\n",
       "cgzone_87                        0.050758   0.000000e+00   5.0\n",
       "cgzone_47                        0.016054   0.000000e+00   6.0\n",
       "cgzone_72                        0.011072   0.000000e+00   7.0\n",
       "cgzone_77                        0.010455   0.000000e+00   8.0\n",
       "Rawah_Wilderness_Area            0.008458   0.000000e+00   9.0\n",
       "Hillshade                        0.005582   0.000000e+00  10.0\n",
       "cgzone_61                        0.003914   0.000000e+00  11.0\n",
       "cgzone_51                        0.003899   0.000000e+00  12.0\n",
       "Neota_Wilderness_Area            0.003390   0.000000e+00  13.0\n",
       "Comanche_Peak_Wilderness_Area    0.001122   0.000000e+00  14.0\n",
       "cgzone_71                        0.000589   0.000000e+00  15.0\n",
       "cgzone_67                        0.000549   0.000000e+00  16.0\n",
       "cgzone_42                        0.000178  7.408783e-138  17.0\n",
       "cgzone_35                        0.000042   1.566942e-30  18.0"
      ]
     },
     "execution_count": 23,
     "metadata": {},
     "output_type": "execute_result"
    }
   ],
   "source": [
    "scoreschi2"
   ]
  },
  {
   "cell_type": "markdown",
   "metadata": {},
   "source": [
    "## Based on Anova (Univariate selection)"
   ]
  },
  {
   "cell_type": "code",
   "execution_count": 24,
   "metadata": {},
   "outputs": [
    {
     "data": {
      "text/html": [
       "<div>\n",
       "<style scoped>\n",
       "    .dataframe tbody tr th:only-of-type {\n",
       "        vertical-align: middle;\n",
       "    }\n",
       "\n",
       "    .dataframe tbody tr th {\n",
       "        vertical-align: top;\n",
       "    }\n",
       "\n",
       "    .dataframe thead th {\n",
       "        text-align: right;\n",
       "    }\n",
       "</style>\n",
       "<table border=\"1\" class=\"dataframe\">\n",
       "  <thead>\n",
       "    <tr style=\"text-align: right;\">\n",
       "      <th></th>\n",
       "      <th>Scores</th>\n",
       "      <th>pvalues</th>\n",
       "      <th>Rank</th>\n",
       "    </tr>\n",
       "  </thead>\n",
       "  <tbody>\n",
       "    <tr>\n",
       "      <th>Elevation</th>\n",
       "      <td>0.832921</td>\n",
       "      <td>0.0</td>\n",
       "      <td>1.0</td>\n",
       "    </tr>\n",
       "    <tr>\n",
       "      <th>Horizontal_Distance_To_Roadways</th>\n",
       "      <td>0.055109</td>\n",
       "      <td>0.0</td>\n",
       "      <td>2.0</td>\n",
       "    </tr>\n",
       "    <tr>\n",
       "      <th>Slope</th>\n",
       "      <td>0.041632</td>\n",
       "      <td>0.0</td>\n",
       "      <td>3.0</td>\n",
       "    </tr>\n",
       "    <tr>\n",
       "      <th>Horizontal_Distance_To_Fire_Points</th>\n",
       "      <td>0.038950</td>\n",
       "      <td>0.0</td>\n",
       "      <td>4.0</td>\n",
       "    </tr>\n",
       "    <tr>\n",
       "      <th>Hillshade</th>\n",
       "      <td>0.017400</td>\n",
       "      <td>0.0</td>\n",
       "      <td>5.0</td>\n",
       "    </tr>\n",
       "    <tr>\n",
       "      <th>Distance_To_Hydrology</th>\n",
       "      <td>0.011593</td>\n",
       "      <td>0.0</td>\n",
       "      <td>6.0</td>\n",
       "    </tr>\n",
       "    <tr>\n",
       "      <th>Aspect</th>\n",
       "      <td>0.002396</td>\n",
       "      <td>0.0</td>\n",
       "      <td>7.0</td>\n",
       "    </tr>\n",
       "  </tbody>\n",
       "</table>\n",
       "</div>"
      ],
      "text/plain": [
       "                                      Scores  pvalues  Rank\n",
       "Elevation                           0.832921      0.0   1.0\n",
       "Horizontal_Distance_To_Roadways     0.055109      0.0   2.0\n",
       "Slope                               0.041632      0.0   3.0\n",
       "Horizontal_Distance_To_Fire_Points  0.038950      0.0   4.0\n",
       "Hillshade                           0.017400      0.0   5.0\n",
       "Distance_To_Hydrology               0.011593      0.0   6.0\n",
       "Aspect                              0.002396      0.0   7.0"
      ]
     },
     "execution_count": 24,
     "metadata": {},
     "output_type": "execute_result"
    },
    {
     "data": {
      "image/png": "[encoded data removed]",
      "text/plain": [
       "<Figure size 1080x720 with 1 Axes>"
      ]
     },
     "metadata": {
      "needs_background": "light"
     },
     "output_type": "display_data"
    }
   ],
   "source": [
    "from sklearn.feature_selection import SelectKBest\n",
    "from sklearn.feature_selection import f_classif\n",
    "X=df[['Elevation', 'Aspect', 'Slope', 'Horizontal_Distance_To_Roadways',\n",
    "       'Horizontal_Distance_To_Fire_Points',\n",
    "     'Distance_To_Hydrology', 'Hillshade']]\n",
    "Y=df['Cover_Type']\n",
    "test = SelectKBest(score_func=f_classif, k='all')\n",
    "fit = test.fit(X, Y)\n",
    "anova=pd.DataFrame(index=X.columns)\n",
    "anova['Scores']=fit.scores_ \n",
    "anova['pvalues']=fit.pvalues_\n",
    "anova['Rank']=anova['Scores'].rank(method='dense',ascending=False )\n",
    "anova=anova.sort_values(by='Rank')\n",
    "anova['Scores']=anova['Scores'].apply(lambda x: (x/anova['Scores'].sum()))\n",
    "anova['Scores'].plot(kind='barh', figsize=(15, 10), legend=True, fontsize=12)\n",
    "anova"
   ]
  },
  {
   "cell_type": "markdown",
   "metadata": {},
   "source": [
    "## BASED ON MUTUAL (UNIVARIATE SELLECTION)"
   ]
  },
  {
   "cell_type": "code",
   "execution_count": 25,
   "metadata": {
    "scrolled": true
   },
   "outputs": [
    {
     "data": {
      "text/html": [
       "<div>\n",
       "<style scoped>\n",
       "    .dataframe tbody tr th:only-of-type {\n",
       "        vertical-align: middle;\n",
       "    }\n",
       "\n",
       "    .dataframe tbody tr th {\n",
       "        vertical-align: top;\n",
       "    }\n",
       "\n",
       "    .dataframe thead th {\n",
       "        text-align: right;\n",
       "    }\n",
       "</style>\n",
       "<table border=\"1\" class=\"dataframe\">\n",
       "  <thead>\n",
       "    <tr style=\"text-align: right;\">\n",
       "      <th></th>\n",
       "      <th>Scores</th>\n",
       "      <th>Rank</th>\n",
       "    </tr>\n",
       "  </thead>\n",
       "  <tbody>\n",
       "    <tr>\n",
       "      <th>Elevation</th>\n",
       "      <td>0.458533</td>\n",
       "      <td>1.0</td>\n",
       "    </tr>\n",
       "    <tr>\n",
       "      <th>Cache_la_Poudre_Wilderness_Area</th>\n",
       "      <td>0.145745</td>\n",
       "      <td>2.0</td>\n",
       "    </tr>\n",
       "    <tr>\n",
       "      <th>cgzone_27</th>\n",
       "      <td>0.110239</td>\n",
       "      <td>3.0</td>\n",
       "    </tr>\n",
       "    <tr>\n",
       "      <th>cgzone_77</th>\n",
       "      <td>0.101319</td>\n",
       "      <td>4.0</td>\n",
       "    </tr>\n",
       "    <tr>\n",
       "      <th>cgzone_87</th>\n",
       "      <td>0.097212</td>\n",
       "      <td>5.0</td>\n",
       "    </tr>\n",
       "    <tr>\n",
       "      <th>Horizontal_Distance_To_Roadways</th>\n",
       "      <td>0.088634</td>\n",
       "      <td>6.0</td>\n",
       "    </tr>\n",
       "    <tr>\n",
       "      <th>Rawah_Wilderness_Area</th>\n",
       "      <td>0.081485</td>\n",
       "      <td>7.0</td>\n",
       "    </tr>\n",
       "    <tr>\n",
       "      <th>Horizontal_Distance_To_Fire_Points</th>\n",
       "      <td>0.070647</td>\n",
       "      <td>8.0</td>\n",
       "    </tr>\n",
       "    <tr>\n",
       "      <th>cgzone_47</th>\n",
       "      <td>0.066735</td>\n",
       "      <td>9.0</td>\n",
       "    </tr>\n",
       "    <tr>\n",
       "      <th>Distance_To_Hydrology</th>\n",
       "      <td>0.056900</td>\n",
       "      <td>10.0</td>\n",
       "    </tr>\n",
       "    <tr>\n",
       "      <th>cgzone_72</th>\n",
       "      <td>0.047887</td>\n",
       "      <td>11.0</td>\n",
       "    </tr>\n",
       "    <tr>\n",
       "      <th>Slope</th>\n",
       "      <td>0.037267</td>\n",
       "      <td>12.0</td>\n",
       "    </tr>\n",
       "    <tr>\n",
       "      <th>Aspect</th>\n",
       "      <td>0.021217</td>\n",
       "      <td>13.0</td>\n",
       "    </tr>\n",
       "    <tr>\n",
       "      <th>Hillshade</th>\n",
       "      <td>0.020143</td>\n",
       "      <td>14.0</td>\n",
       "    </tr>\n",
       "    <tr>\n",
       "      <th>Comanche_Peak_Wilderness_Area</th>\n",
       "      <td>0.016684</td>\n",
       "      <td>15.0</td>\n",
       "    </tr>\n",
       "    <tr>\n",
       "      <th>Neota_Wilderness_Area</th>\n",
       "      <td>0.012610</td>\n",
       "      <td>16.0</td>\n",
       "    </tr>\n",
       "    <tr>\n",
       "      <th>cgzone_61</th>\n",
       "      <td>0.004333</td>\n",
       "      <td>17.0</td>\n",
       "    </tr>\n",
       "    <tr>\n",
       "      <th>cgzone_71</th>\n",
       "      <td>0.003327</td>\n",
       "      <td>18.0</td>\n",
       "    </tr>\n",
       "    <tr>\n",
       "      <th>cgzone_51</th>\n",
       "      <td>0.003231</td>\n",
       "      <td>19.0</td>\n",
       "    </tr>\n",
       "    <tr>\n",
       "      <th>cgzone_42</th>\n",
       "      <td>0.002418</td>\n",
       "      <td>20.0</td>\n",
       "    </tr>\n",
       "    <tr>\n",
       "      <th>cgzone_67</th>\n",
       "      <td>0.001904</td>\n",
       "      <td>21.0</td>\n",
       "    </tr>\n",
       "    <tr>\n",
       "      <th>cgzone_35</th>\n",
       "      <td>0.000354</td>\n",
       "      <td>22.0</td>\n",
       "    </tr>\n",
       "  </tbody>\n",
       "</table>\n",
       "</div>"
      ],
      "text/plain": [
       "                                      Scores  Rank\n",
       "Elevation                           0.458533   1.0\n",
       "Cache_la_Poudre_Wilderness_Area     0.145745   2.0\n",
       "cgzone_27                           0.110239   3.0\n",
       "cgzone_77                           0.101319   4.0\n",
       "cgzone_87                           0.097212   5.0\n",
       "Horizontal_Distance_To_Roadways     0.088634   6.0\n",
       "Rawah_Wilderness_Area               0.081485   7.0\n",
       "Horizontal_Distance_To_Fire_Points  0.070647   8.0\n",
       "cgzone_47                           0.066735   9.0\n",
       "Distance_To_Hydrology               0.056900  10.0\n",
       "cgzone_72                           0.047887  11.0\n",
       "Slope                               0.037267  12.0\n",
       "Aspect                              0.021217  13.0\n",
       "Hillshade                           0.020143  14.0\n",
       "Comanche_Peak_Wilderness_Area       0.016684  15.0\n",
       "Neota_Wilderness_Area               0.012610  16.0\n",
       "cgzone_61                           0.004333  17.0\n",
       "cgzone_71                           0.003327  18.0\n",
       "cgzone_51                           0.003231  19.0\n",
       "cgzone_42                           0.002418  20.0\n",
       "cgzone_67                           0.001904  21.0\n",
       "cgzone_35                           0.000354  22.0"
      ]
     },
     "execution_count": 25,
     "metadata": {},
     "output_type": "execute_result"
    },
    {
     "data": {
      "image/png": "[encoded data removed]",
      "text/plain": [
       "<Figure size 1080x720 with 1 Axes>"
      ]
     },
     "metadata": {
      "needs_background": "light"
     },
     "output_type": "display_data"
    }
   ],
   "source": [
    "from sklearn.feature_selection import SelectKBest\n",
    "from sklearn.feature_selection import mutual_info_classif\n",
    "X=df.drop('Cover_Type',axis=1)\n",
    "Y=df['Cover_Type']\n",
    "test = SelectKBest(score_func=mutual_info_classif, k='all')\n",
    "fit = test.fit(X, Y)\n",
    "mutual=pd.DataFrame(index=X.columns)\n",
    "mutual['Scores']=fit.scores_ \n",
    "mutual['Rank']=mutual['Scores'].rank(method='dense',ascending=False )\n",
    "mutual=mutual.sort_values(by='Rank')\n",
    "mutual['Scores'].plot(kind='barh', figsize=(15, 10), legend=True, fontsize=12)\n",
    "mutual"
   ]
  },
  {
   "cell_type": "markdown",
   "metadata": {},
   "source": [
    "## Recursive Feature Elimination"
   ]
  },
  {
   "cell_type": "code",
   "execution_count": 14,
   "metadata": {},
   "outputs": [
    {
     "name": "stdout",
     "output_type": "stream",
     "text": [
      "Num Features: 1\n",
      "Selected Features: [False False  True False False False False False False False False False\n",
      " False False False False False False False False False False False False\n",
      " False False False False False False False False False False False False\n",
      " False False False False False False False False False False False False\n",
      " False False False]\n",
      "Feature Ranking: [ 5  4  1  7  6  9 16 14  8 31 23 30 19 34 27 49 50 39 13 26 15 21 44 51\n",
      " 43 32 41 36 38 40 10 11 28 47 35 46 42 12 20 29 22 25 37 33 48 45 17 18\n",
      " 24  3  2]\n"
     ]
    }
   ],
   "source": [
    "# #LogisticRegression\n",
    "# from sklearn.feature_selection import RFE\n",
    "# from sklearn.linear_model import LogisticRegression\n",
    "# X=df.drop('Cover_Type',1)\n",
    "# Y=df['Cover_Type']\n",
    "# #Feature extraction\n",
    "# model = LogisticRegression() \n",
    "# rfe = RFE(model, 1)\n",
    "# fit = rfe.fit(X, Y)\n",
    "# print(\"Num Features: %d\"% fit.n_features_) \n",
    "# print(\"Selected Features: %s\"% fit.support_) \n",
    "# print(\"Feature Ranking: %s\"% fit.ranking_)"
   ]
  },
  {
   "cell_type": "code",
   "execution_count": 19,
   "metadata": {
    "scrolled": true
   },
   "outputs": [
    {
     "data": {
      "text/html": [
       "<div>\n",
       "<style scoped>\n",
       "    .dataframe tbody tr th:only-of-type {\n",
       "        vertical-align: middle;\n",
       "    }\n",
       "\n",
       "    .dataframe tbody tr th {\n",
       "        vertical-align: top;\n",
       "    }\n",
       "\n",
       "    .dataframe thead th {\n",
       "        text-align: right;\n",
       "    }\n",
       "</style>\n",
       "<table border=\"1\" class=\"dataframe\">\n",
       "  <thead>\n",
       "    <tr style=\"text-align: right;\">\n",
       "      <th></th>\n",
       "      <th>0</th>\n",
       "    </tr>\n",
       "  </thead>\n",
       "  <tbody>\n",
       "    <tr>\n",
       "      <td>Slope</td>\n",
       "      <td>1</td>\n",
       "    </tr>\n",
       "    <tr>\n",
       "      <td>Hillshade</td>\n",
       "      <td>2</td>\n",
       "    </tr>\n",
       "    <tr>\n",
       "      <td>Distance_To_Hydrology</td>\n",
       "      <td>3</td>\n",
       "    </tr>\n",
       "    <tr>\n",
       "      <td>Aspect</td>\n",
       "      <td>4</td>\n",
       "    </tr>\n",
       "    <tr>\n",
       "      <td>Elevation</td>\n",
       "      <td>5</td>\n",
       "    </tr>\n",
       "    <tr>\n",
       "      <td>Horizontal_Distance_To_Fire_Points</td>\n",
       "      <td>6</td>\n",
       "    </tr>\n",
       "    <tr>\n",
       "      <td>Horizontal_Distance_To_Roadways</td>\n",
       "      <td>7</td>\n",
       "    </tr>\n",
       "    <tr>\n",
       "      <td>Cache_la_Poudre_Wilderness_Area</td>\n",
       "      <td>8</td>\n",
       "    </tr>\n",
       "    <tr>\n",
       "      <td>Rawah_Wilderness_Area</td>\n",
       "      <td>9</td>\n",
       "    </tr>\n",
       "    <tr>\n",
       "      <td>Soil_code_7201</td>\n",
       "      <td>10</td>\n",
       "    </tr>\n",
       "    <tr>\n",
       "      <td>Soil_code_7202</td>\n",
       "      <td>11</td>\n",
       "    </tr>\n",
       "    <tr>\n",
       "      <td>Soil_code_7745</td>\n",
       "      <td>12</td>\n",
       "    </tr>\n",
       "    <tr>\n",
       "      <td>Soil_code_4703</td>\n",
       "      <td>13</td>\n",
       "    </tr>\n",
       "    <tr>\n",
       "      <td>Comanche_Peak_Wilderness_Area</td>\n",
       "      <td>14</td>\n",
       "    </tr>\n",
       "    <tr>\n",
       "      <td>Soil_code_4744</td>\n",
       "      <td>15</td>\n",
       "    </tr>\n",
       "    <tr>\n",
       "      <td>Neota_Wilderness_Area</td>\n",
       "      <td>16</td>\n",
       "    </tr>\n",
       "    <tr>\n",
       "      <td>Soil_code_8771</td>\n",
       "      <td>17</td>\n",
       "    </tr>\n",
       "    <tr>\n",
       "      <td>Soil_code_8772</td>\n",
       "      <td>18</td>\n",
       "    </tr>\n",
       "    <tr>\n",
       "      <td>Soil_code_2705</td>\n",
       "      <td>19</td>\n",
       "    </tr>\n",
       "    <tr>\n",
       "      <td>Soil_code_7746</td>\n",
       "      <td>20</td>\n",
       "    </tr>\n",
       "    <tr>\n",
       "      <td>Soil_code_4758</td>\n",
       "      <td>21</td>\n",
       "    </tr>\n",
       "    <tr>\n",
       "      <td>Soil_code_7756</td>\n",
       "      <td>22</td>\n",
       "    </tr>\n",
       "    <tr>\n",
       "      <td>Soil_code_2703</td>\n",
       "      <td>23</td>\n",
       "    </tr>\n",
       "    <tr>\n",
       "      <td>Soil_code_8776</td>\n",
       "      <td>24</td>\n",
       "    </tr>\n",
       "    <tr>\n",
       "      <td>Soil_code_7757</td>\n",
       "      <td>25</td>\n",
       "    </tr>\n",
       "    <tr>\n",
       "      <td>Soil_code_4704</td>\n",
       "      <td>26</td>\n",
       "    </tr>\n",
       "    <tr>\n",
       "      <td>Soil_code_2717</td>\n",
       "      <td>27</td>\n",
       "    </tr>\n",
       "    <tr>\n",
       "      <td>Soil_code_7700</td>\n",
       "      <td>28</td>\n",
       "    </tr>\n",
       "    <tr>\n",
       "      <td>Soil_code_7755</td>\n",
       "      <td>29</td>\n",
       "    </tr>\n",
       "    <tr>\n",
       "      <td>Soil_code_2704</td>\n",
       "      <td>30</td>\n",
       "    </tr>\n",
       "    <tr>\n",
       "      <td>Soil_code_2702</td>\n",
       "      <td>31</td>\n",
       "    </tr>\n",
       "    <tr>\n",
       "      <td>Soil_code_6102</td>\n",
       "      <td>32</td>\n",
       "    </tr>\n",
       "    <tr>\n",
       "      <td>Soil_code_8703</td>\n",
       "      <td>33</td>\n",
       "    </tr>\n",
       "    <tr>\n",
       "      <td>Soil_code_2706</td>\n",
       "      <td>34</td>\n",
       "    </tr>\n",
       "    <tr>\n",
       "      <td>Soil_code_7702</td>\n",
       "      <td>35</td>\n",
       "    </tr>\n",
       "    <tr>\n",
       "      <td>Soil_code_7101</td>\n",
       "      <td>36</td>\n",
       "    </tr>\n",
       "    <tr>\n",
       "      <td>Soil_code_7790</td>\n",
       "      <td>37</td>\n",
       "    </tr>\n",
       "    <tr>\n",
       "      <td>Soil_code_7102</td>\n",
       "      <td>38</td>\n",
       "    </tr>\n",
       "    <tr>\n",
       "      <td>Soil_code_4201</td>\n",
       "      <td>39</td>\n",
       "    </tr>\n",
       "    <tr>\n",
       "      <td>Soil_code_7103</td>\n",
       "      <td>40</td>\n",
       "    </tr>\n",
       "    <tr>\n",
       "      <td>Soil_code_6731</td>\n",
       "      <td>41</td>\n",
       "    </tr>\n",
       "    <tr>\n",
       "      <td>Soil_code_7710</td>\n",
       "      <td>42</td>\n",
       "    </tr>\n",
       "    <tr>\n",
       "      <td>Soil_code_6101</td>\n",
       "      <td>43</td>\n",
       "    </tr>\n",
       "    <tr>\n",
       "      <td>Soil_code_5101</td>\n",
       "      <td>44</td>\n",
       "    </tr>\n",
       "    <tr>\n",
       "      <td>Soil_code_8708</td>\n",
       "      <td>45</td>\n",
       "    </tr>\n",
       "    <tr>\n",
       "      <td>Soil_code_7709</td>\n",
       "      <td>46</td>\n",
       "    </tr>\n",
       "    <tr>\n",
       "      <td>Soil_code_7701</td>\n",
       "      <td>47</td>\n",
       "    </tr>\n",
       "    <tr>\n",
       "      <td>Soil_code_8707</td>\n",
       "      <td>48</td>\n",
       "    </tr>\n",
       "    <tr>\n",
       "      <td>Soil_code_3501</td>\n",
       "      <td>49</td>\n",
       "    </tr>\n",
       "    <tr>\n",
       "      <td>Soil_code_3502</td>\n",
       "      <td>50</td>\n",
       "    </tr>\n",
       "    <tr>\n",
       "      <td>Soil_code_5151</td>\n",
       "      <td>51</td>\n",
       "    </tr>\n",
       "  </tbody>\n",
       "</table>\n",
       "</div>"
      ],
      "text/plain": [
       "                                     0\n",
       "Slope                                1\n",
       "Hillshade                            2\n",
       "Distance_To_Hydrology                3\n",
       "Aspect                               4\n",
       "Elevation                            5\n",
       "Horizontal_Distance_To_Fire_Points   6\n",
       "Horizontal_Distance_To_Roadways      7\n",
       "Cache_la_Poudre_Wilderness_Area      8\n",
       "Rawah_Wilderness_Area                9\n",
       "Soil_code_7201                      10\n",
       "Soil_code_7202                      11\n",
       "Soil_code_7745                      12\n",
       "Soil_code_4703                      13\n",
       "Comanche_Peak_Wilderness_Area       14\n",
       "Soil_code_4744                      15\n",
       "Neota_Wilderness_Area               16\n",
       "Soil_code_8771                      17\n",
       "Soil_code_8772                      18\n",
       "Soil_code_2705                      19\n",
       "Soil_code_7746                      20\n",
       "Soil_code_4758                      21\n",
       "Soil_code_7756                      22\n",
       "Soil_code_2703                      23\n",
       "Soil_code_8776                      24\n",
       "Soil_code_7757                      25\n",
       "Soil_code_4704                      26\n",
       "Soil_code_2717                      27\n",
       "Soil_code_7700                      28\n",
       "Soil_code_7755                      29\n",
       "Soil_code_2704                      30\n",
       "Soil_code_2702                      31\n",
       "Soil_code_6102                      32\n",
       "Soil_code_8703                      33\n",
       "Soil_code_2706                      34\n",
       "Soil_code_7702                      35\n",
       "Soil_code_7101                      36\n",
       "Soil_code_7790                      37\n",
       "Soil_code_7102                      38\n",
       "Soil_code_4201                      39\n",
       "Soil_code_7103                      40\n",
       "Soil_code_6731                      41\n",
       "Soil_code_7710                      42\n",
       "Soil_code_6101                      43\n",
       "Soil_code_5101                      44\n",
       "Soil_code_8708                      45\n",
       "Soil_code_7709                      46\n",
       "Soil_code_7701                      47\n",
       "Soil_code_8707                      48\n",
       "Soil_code_3501                      49\n",
       "Soil_code_3502                      50\n",
       "Soil_code_5151                      51"
      ]
     },
     "execution_count": 19,
     "metadata": {},
     "output_type": "execute_result"
    }
   ],
   "source": [
    "# refsum=pd.DataFrame(data=fit.ranking_,index=X.columns)\n",
    "# refsum=refsum.sort_values(by=0)\n",
    "# refsum"
   ]
  },
  {
   "cell_type": "markdown",
   "metadata": {},
   "source": [
    "# Balancing Using SMOTE"
   ]
  },
  {
   "cell_type": "code",
   "execution_count": 26,
   "metadata": {},
   "outputs": [],
   "source": [
    "sm = SMOTE(random_state=42)\n",
    "X_res, y_res = X_train, y_train \n",
    "X_train, y_train = sm.fit_resample(X_res, y_res)"
   ]
  },
  {
   "cell_type": "code",
   "execution_count": 27,
   "metadata": {},
   "outputs": [
    {
     "name": "stdout",
     "output_type": "stream",
     "text": [
      "X_train.shape (1388170, 22)\n",
      "y_train.shape (1388170,)\n"
     ]
    }
   ],
   "source": [
    "print('X_train.shape',X_train.shape)\n",
    "print('y_train.shape',y_train.shape)"
   ]
  },
  {
   "cell_type": "markdown",
   "metadata": {},
   "source": [
    "# Logistic Regression"
   ]
  },
  {
   "cell_type": "code",
   "execution_count": 11,
   "metadata": {},
   "outputs": [],
   "source": [
    "# install in anaconda prompt\n",
    "# conda install -c conda-forge imbalanced-learn"
   ]
  },
  {
   "cell_type": "code",
   "execution_count": 30,
   "metadata": {
    "scrolled": true
   },
   "outputs": [
    {
     "data": {
      "text/plain": [
       "{'C': 0.1}"
      ]
     },
     "execution_count": 30,
     "metadata": {},
     "output_type": "execute_result"
    }
   ],
   "source": [
    "LRestim=LogisticRegression(random_state=42,multi_class='multinomial',solver='saga',class_weight='balanced')\n",
    "LRparam={'C':[1.0,0.1,0.001]}\n",
    "LRCV=RandomizedSearchCV(estimator=LRestim,param_distributions=LRparam\n",
    "                        ,n_jobs=-1,cv=5,random_state=42)\n",
    "best_parameter_search = LRCV.fit(X_train, y_train)\n",
    "best_parameter_search.best_params_"
   ]
  },
  {
   "cell_type": "code",
   "execution_count": 31,
   "metadata": {
    "scrolled": true
   },
   "outputs": [
    {
     "data": {
      "text/html": [
       "<div>\n",
       "<style scoped>\n",
       "    .dataframe tbody tr th:only-of-type {\n",
       "        vertical-align: middle;\n",
       "    }\n",
       "\n",
       "    .dataframe tbody tr th {\n",
       "        vertical-align: top;\n",
       "    }\n",
       "\n",
       "    .dataframe thead th {\n",
       "        text-align: right;\n",
       "    }\n",
       "</style>\n",
       "<table border=\"1\" class=\"dataframe\">\n",
       "  <thead>\n",
       "    <tr style=\"text-align: right;\">\n",
       "      <th></th>\n",
       "      <th>mean_test_score</th>\n",
       "      <th>params</th>\n",
       "    </tr>\n",
       "  </thead>\n",
       "  <tbody>\n",
       "    <tr>\n",
       "      <th>0</th>\n",
       "      <td>0.541872</td>\n",
       "      <td>{'C': 1.0}</td>\n",
       "    </tr>\n",
       "    <tr>\n",
       "      <th>1</th>\n",
       "      <td>0.541872</td>\n",
       "      <td>{'C': 0.1}</td>\n",
       "    </tr>\n",
       "    <tr>\n",
       "      <th>2</th>\n",
       "      <td>0.541832</td>\n",
       "      <td>{'C': 0.001}</td>\n",
       "    </tr>\n",
       "  </tbody>\n",
       "</table>\n",
       "</div>"
      ],
      "text/plain": [
       "   mean_test_score        params\n",
       "0         0.541872    {'C': 1.0}\n",
       "1         0.541872    {'C': 0.1}\n",
       "2         0.541832  {'C': 0.001}"
      ]
     },
     "execution_count": 31,
     "metadata": {},
     "output_type": "execute_result"
    }
   ],
   "source": [
    "pd.DataFrame(best_parameter_search.cv_results_)[['mean_test_score','params']]"
   ]
  },
  {
   "cell_type": "code",
   "execution_count": 32,
   "metadata": {},
   "outputs": [
    {
     "name": "stdout",
     "output_type": "stream",
     "text": [
      "Train Recall 0.5455484558807638\n",
      "Test Recall 0.4554169726454929\n",
      "1    49.85\n",
      "2    40.17\n",
      "3    39.75\n",
      "4    67.84\n",
      "5    61.80\n",
      "6    37.18\n",
      "7    81.86\n",
      "Name: Recall, dtype: float64\n"
     ]
    }
   ],
   "source": [
    "#Chosen the Best paramerts given\n",
    "LR = LogisticRegression(C=1,class_weight='balanced',solver='saga',\n",
    "                        random_state=42,multi_class='multinomial')\n",
    "LR.fit(X_train,y_train)\n",
    "y_pred_LR = LR.predict(X_test)\n",
    "trainLR=LR.predict(X_train)\n",
    "cm= confusion_matrix(y_test,y_pred_LR)\n",
    "a=pd.DataFrame(data=cm,index=[1,2,3,4,5,6,7], columns=['1','2','3','4','5','6','7'])\n",
    "a['sum']=a['1']+a['2']+a['3']+a['4']+a['5']+a['6']+a['7']\n",
    "a['Recall']=np.array(np.round(((cm[0][0]/a['sum'][1])*100,(cm[1][1]/a['sum'][2])*100,\n",
    "                                  (cm[2][2]/a['sum'][3])*100,(cm[3][3]/a['sum'][4])*100,\n",
    "                                  (cm[4][4]/a['sum'][5])*100,(cm[5][5]/a['sum'][6])*100,\n",
    "                                  (cm[6][6]/a['sum'][7])*100),2))\n",
    "print('Train Recall',recall_score(y_train, trainLR, average='weighted'))\n",
    "print('Test Recall',recall_score(y_test,y_pred_LR, average='weighted'))\n",
    "print(a['Recall'])"
   ]
  },
  {
   "cell_type": "markdown",
   "metadata": {},
   "source": [
    "# Decision Tree"
   ]
  },
  {
   "cell_type": "code",
   "execution_count": 33,
   "metadata": {},
   "outputs": [
    {
     "data": {
      "text/plain": [
       "{'splitter': 'best',\n",
       " 'max_features': 'log2',\n",
       " 'max_depth': 35,\n",
       " 'criterion': 'entropy'}"
      ]
     },
     "execution_count": 33,
     "metadata": {},
     "output_type": "execute_result"
    }
   ],
   "source": [
    "from sklearn.tree import DecisionTreeClassifier\n",
    "tree = DecisionTreeClassifier(random_state=42,class_weight='balanced')\n",
    "tree_param = {\"criterion\":[\"gini\", \"entropy\"],\n",
    "    \"splitter\":[\"best\", \"random\"],\n",
    "    \"max_depth\":[14,16,18,20,22,25,30,35],\n",
    "    \"max_features\":[\"auto\",\"sqrt\",\"log2\"],}\n",
    "grid = RandomizedSearchCV(estimator=tree, param_distributions=tree_param,\n",
    "                          cv = 5,random_state=42)\n",
    "best_parameter_search_DT = grid.fit(X_train, y_train)\n",
    "best_parameter_search_DT.best_params_"
   ]
  },
  {
   "cell_type": "code",
   "execution_count": 34,
   "metadata": {
    "scrolled": true
   },
   "outputs": [
    {
     "data": {
      "text/plain": [
       "<matplotlib.axes._subplots.AxesSubplot at 0x26b84886470>"
      ]
     },
     "execution_count": 34,
     "metadata": {},
     "output_type": "execute_result"
    },
    {
     "data": {
      "image/png": "[encoded data removed]",
      "text/plain": [
       "<Figure size 432x288 with 1 Axes>"
      ]
     },
     "metadata": {
      "needs_background": "light"
     },
     "output_type": "display_data"
    }
   ],
   "source": [
    "pd.DataFrame(best_parameter_search_DT.cv_results_)[['mean_test_score']].plot()"
   ]
  },
  {
   "cell_type": "code",
   "execution_count": 35,
   "metadata": {
    "scrolled": false
   },
   "outputs": [
    {
     "data": {
      "text/html": [
       "<div>\n",
       "<style scoped>\n",
       "    .dataframe tbody tr th:only-of-type {\n",
       "        vertical-align: middle;\n",
       "    }\n",
       "\n",
       "    .dataframe tbody tr th {\n",
       "        vertical-align: top;\n",
       "    }\n",
       "\n",
       "    .dataframe thead th {\n",
       "        text-align: right;\n",
       "    }\n",
       "</style>\n",
       "<table border=\"1\" class=\"dataframe\">\n",
       "  <thead>\n",
       "    <tr style=\"text-align: right;\">\n",
       "      <th></th>\n",
       "      <th>mean_test_score</th>\n",
       "      <th>param_max_depth</th>\n",
       "      <th>params</th>\n",
       "    </tr>\n",
       "  </thead>\n",
       "  <tbody>\n",
       "    <tr>\n",
       "      <th>0</th>\n",
       "      <td>0.955356</td>\n",
       "      <td>25</td>\n",
       "      <td>{'splitter': 'best', 'max_features': 'sqrt', 'max_depth': 25, 'criterion': 'entropy'}</td>\n",
       "    </tr>\n",
       "    <tr>\n",
       "      <th>1</th>\n",
       "      <td>0.801611</td>\n",
       "      <td>22</td>\n",
       "      <td>{'splitter': 'random', 'max_features': 'log2', 'max_depth': 22, 'criterion': 'entropy'}</td>\n",
       "    </tr>\n",
       "    <tr>\n",
       "      <th>2</th>\n",
       "      <td>0.801611</td>\n",
       "      <td>22</td>\n",
       "      <td>{'splitter': 'random', 'max_features': 'auto', 'max_depth': 22, 'criterion': 'entropy'}</td>\n",
       "    </tr>\n",
       "    <tr>\n",
       "      <th>3</th>\n",
       "      <td>0.962359</td>\n",
       "      <td>35</td>\n",
       "      <td>{'splitter': 'best', 'max_features': 'log2', 'max_depth': 35, 'criterion': 'entropy'}</td>\n",
       "    </tr>\n",
       "    <tr>\n",
       "      <th>4</th>\n",
       "      <td>0.840253</td>\n",
       "      <td>25</td>\n",
       "      <td>{'splitter': 'random', 'max_features': 'sqrt', 'max_depth': 25, 'criterion': 'gini'}</td>\n",
       "    </tr>\n",
       "    <tr>\n",
       "      <th>5</th>\n",
       "      <td>0.839297</td>\n",
       "      <td>25</td>\n",
       "      <td>{'splitter': 'random', 'max_features': 'auto', 'max_depth': 25, 'criterion': 'entropy'}</td>\n",
       "    </tr>\n",
       "    <tr>\n",
       "      <th>6</th>\n",
       "      <td>0.766352</td>\n",
       "      <td>20</td>\n",
       "      <td>{'splitter': 'random', 'max_features': 'sqrt', 'max_depth': 20, 'criterion': 'entropy'}</td>\n",
       "    </tr>\n",
       "    <tr>\n",
       "      <th>7</th>\n",
       "      <td>0.960400</td>\n",
       "      <td>35</td>\n",
       "      <td>{'splitter': 'best', 'max_features': 'auto', 'max_depth': 35, 'criterion': 'gini'}</td>\n",
       "    </tr>\n",
       "    <tr>\n",
       "      <th>8</th>\n",
       "      <td>0.822210</td>\n",
       "      <td>14</td>\n",
       "      <td>{'splitter': 'best', 'max_features': 'auto', 'max_depth': 14, 'criterion': 'gini'}</td>\n",
       "    </tr>\n",
       "    <tr>\n",
       "      <th>9</th>\n",
       "      <td>0.863131</td>\n",
       "      <td>16</td>\n",
       "      <td>{'splitter': 'best', 'max_features': 'log2', 'max_depth': 16, 'criterion': 'gini'}</td>\n",
       "    </tr>\n",
       "  </tbody>\n",
       "</table>\n",
       "</div>"
      ],
      "text/plain": [
       "   mean_test_score param_max_depth  \\\n",
       "0         0.955356              25   \n",
       "1         0.801611              22   \n",
       "2         0.801611              22   \n",
       "3         0.962359              35   \n",
       "4         0.840253              25   \n",
       "5         0.839297              25   \n",
       "6         0.766352              20   \n",
       "7         0.960400              35   \n",
       "8         0.822210              14   \n",
       "9         0.863131              16   \n",
       "\n",
       "                                                                                    params  \n",
       "0    {'splitter': 'best', 'max_features': 'sqrt', 'max_depth': 25, 'criterion': 'entropy'}  \n",
       "1  {'splitter': 'random', 'max_features': 'log2', 'max_depth': 22, 'criterion': 'entropy'}  \n",
       "2  {'splitter': 'random', 'max_features': 'auto', 'max_depth': 22, 'criterion': 'entropy'}  \n",
       "3    {'splitter': 'best', 'max_features': 'log2', 'max_depth': 35, 'criterion': 'entropy'}  \n",
       "4     {'splitter': 'random', 'max_features': 'sqrt', 'max_depth': 25, 'criterion': 'gini'}  \n",
       "5  {'splitter': 'random', 'max_features': 'auto', 'max_depth': 25, 'criterion': 'entropy'}  \n",
       "6  {'splitter': 'random', 'max_features': 'sqrt', 'max_depth': 20, 'criterion': 'entropy'}  \n",
       "7       {'splitter': 'best', 'max_features': 'auto', 'max_depth': 35, 'criterion': 'gini'}  \n",
       "8       {'splitter': 'best', 'max_features': 'auto', 'max_depth': 14, 'criterion': 'gini'}  \n",
       "9       {'splitter': 'best', 'max_features': 'log2', 'max_depth': 16, 'criterion': 'gini'}  "
      ]
     },
     "execution_count": 35,
     "metadata": {},
     "output_type": "execute_result"
    }
   ],
   "source": [
    "pd.DataFrame(best_parameter_search_DT.cv_results_)[['mean_test_score','param_max_depth','params']]"
   ]
  },
  {
   "cell_type": "code",
   "execution_count": 36,
   "metadata": {},
   "outputs": [
    {
     "name": "stdout",
     "output_type": "stream",
     "text": [
      "Train Recall 0.9873711433037741\n",
      "Test Recall 0.8836056544887094\n"
     ]
    },
    {
     "data": {
      "text/plain": [
       "1    88.35\n",
       "2    88.11\n",
       "3    90.55\n",
       "4    83.86\n",
       "5    83.60\n",
       "6    85.05\n",
       "7    93.81\n",
       "Name: recall, dtype: float64"
      ]
     },
     "execution_count": 36,
     "metadata": {},
     "output_type": "execute_result"
    }
   ],
   "source": [
    "#Based on the above table best features manually  sellected\n",
    "DT=DecisionTreeClassifier(criterion='entropy',splitter='best',max_depth=25,\n",
    "                          max_features='sqrt',random_state=42,class_weight='balanced')\n",
    "DT.fit(X_train,y_train)\n",
    "DTpred=DT.predict(X_test)\n",
    "trainDT=DT.predict(X_train)\n",
    "cm= confusion_matrix(y_test,DTpred)\n",
    "a=pd.DataFrame(data=cm,index=[1,2,3,4,5,6,7], columns=['1','2','3','4','5','6','7'])\n",
    "a['sum']=a['1']+a['2']+a['3']+a['4']+a['5']+a['6']+a['7']\n",
    "a['recall']=np.array(np.round(((cm[0][0]/a['sum'][1])*100,(cm[1][1]/a['sum'][2])*100,\n",
    "                                 (cm[2][2]/a['sum'][3])*100,(cm[3][3]/a['sum'][4])*100,\n",
    "                                 (cm[4][4]/a['sum'][5])*100,(cm[5][5]/a['sum'][6])*100,\n",
    "                                 (cm[6][6]/a['sum'][7])*100),2))\n",
    "print('Train Recall',recall_score(y_train, trainDT, average='weighted'))\n",
    "print('Test Recall',recall_score(y_test,DTpred, average='weighted'))\n",
    "a['recall']"
   ]
  },
  {
   "cell_type": "code",
   "execution_count": 27,
   "metadata": {},
   "outputs": [
    {
     "name": "stdout",
     "output_type": "stream",
     "text": [
      "Train Recall 0.9873394468977142\n",
      "Test Recall 0.8773808977418762\n"
     ]
    },
    {
     "data": {
      "text/plain": [
       "1    86.67\n",
       "2    88.50\n",
       "3    88.73\n",
       "4    83.13\n",
       "5    80.34\n",
       "6    84.28\n",
       "7    93.48\n",
       "Name: recall, dtype: float64"
      ]
     },
     "execution_count": 27,
     "metadata": {},
     "output_type": "execute_result"
    }
   ],
   "source": [
    "DT=DecisionTreeClassifier(criterion='entropy',splitter='best',max_depth=35,\n",
    "                          max_features='log2',random_state=42,class_weight='balanced')\n",
    "DT.fit(X_train,y_train)\n",
    "DTpred=DT.predict(X_test)\n",
    "trainDT=DT.predict(X_train)\n",
    "cm= confusion_matrix(y_test,DTpred)\n",
    "a=pd.DataFrame(data=cm,index=[1,2,3,4,5,6,7], columns=['1','2','3','4','5','6','7'])\n",
    "a['sum']=a['1']+a['2']+a['3']+a['4']+a['5']+a['6']+a['7']\n",
    "a['recall']=np.array(np.round(((cm[0][0]/a['sum'][1])*100,(cm[1][1]/a['sum'][2])*100,\n",
    "                                 (cm[2][2]/a['sum'][3])*100,(cm[3][3]/a['sum'][4])*100,\n",
    "                                 (cm[4][4]/a['sum'][5])*100,(cm[5][5]/a['sum'][6])*100,\n",
    "                                 (cm[6][6]/a['sum'][7])*100),2))\n",
    "print('Train Recall',recall_score(y_train, trainDT, average='weighted'))\n",
    "print('Test Recall',recall_score(y_test,DTpred, average='weighted'))\n",
    "a['recall']"
   ]
  },
  {
   "cell_type": "code",
   "execution_count": 37,
   "metadata": {},
   "outputs": [
    {
     "name": "stdout",
     "output_type": "stream",
     "text": [
      "Train Recall 0.999436668419574\n",
      "Test Recall 0.894156186891867\n"
     ]
    },
    {
     "data": {
      "text/plain": [
       "1    89.06\n",
       "2    90.05\n",
       "3    89.66\n",
       "4    82.40\n",
       "5    82.30\n",
       "6    83.17\n",
       "7    93.39\n",
       "Name: recall, dtype: float64"
      ]
     },
     "execution_count": 37,
     "metadata": {},
     "output_type": "execute_result"
    }
   ],
   "source": [
    "DT=DecisionTreeClassifier(criterion='gini',splitter='best',max_depth=35,\n",
    "                          max_features='auto',random_state=42,class_weight='balanced')\n",
    "DT.fit(X_train,y_train)\n",
    "DTpred=DT.predict(X_test)\n",
    "trainDT=DT.predict(X_train)\n",
    "cm= confusion_matrix(y_test,DTpred)\n",
    "a=pd.DataFrame(data=cm,index=[1,2,3,4,5,6,7], columns=['1','2','3','4','5','6','7'])\n",
    "a['sum']=a['1']+a['2']+a['3']+a['4']+a['5']+a['6']+a['7']\n",
    "a['recall']=np.array(np.round(((cm[0][0]/a['sum'][1])*100,(cm[1][1]/a['sum'][2])*100,\n",
    "                                 (cm[2][2]/a['sum'][3])*100,(cm[3][3]/a['sum'][4])*100,\n",
    "                                 (cm[4][4]/a['sum'][5])*100,(cm[5][5]/a['sum'][6])*100,\n",
    "                                 (cm[6][6]/a['sum'][7])*100),2))\n",
    "print('Train Recall',recall_score(y_train, trainDT, average='weighted'))\n",
    "print('Test Recall',recall_score(y_test,DTpred, average='weighted'))\n",
    "a['recall']"
   ]
  },
  {
   "cell_type": "markdown",
   "metadata": {},
   "source": [
    "# Random Forest"
   ]
  },
  {
   "cell_type": "code",
   "execution_count": 38,
   "metadata": {},
   "outputs": [
    {
     "name": "stdout",
     "output_type": "stream",
     "text": [
      "Train Recall 0.9995094260789384\n",
      "Test Recall 0.9436329630989535\n",
      "1    94.90\n",
      "2    94.16\n",
      "3    95.86\n",
      "4    88.96\n",
      "5    87.18\n",
      "6    90.73\n",
      "7    96.12\n",
      "Name: recall, dtype: float64\n"
     ]
    }
   ],
   "source": [
    "rf = RandomForestClassifier(n_jobs=-1,random_state=42)\n",
    "rf.fit(X_train,y_train)\n",
    "rfpred=rf.predict(X_test)\n",
    "trainRF=rf.predict(X_train)\n",
    "cm= confusion_matrix(y_test,rfpred)\n",
    "a=pd.DataFrame(data=cm,index=[1,2,3,4,5,6,7], columns=['1','2','3','4','5','6','7'])\n",
    "a['sum']=a['1']+a['2']+a['3']+a['4']+a['5']+a['6']+a['7']\n",
    "a['recall']=np.array(np.round(((cm[0][0]/a['sum'][1])*100,(cm[1][1]/a['sum'][2])*100,\n",
    "                                 (cm[2][2]/a['sum'][3])*100,(cm[3][3]/a['sum'][4])*100,\n",
    "                                 (cm[4][4]/a['sum'][5])*100,(cm[5][5]/a['sum'][6])*100,\n",
    "                                 (cm[6][6]/a['sum'][7])*100),2))\n",
    "print('Train Recall',recall_score(y_train, trainRF, average='weighted'))\n",
    "print('Test Recall',recall_score(y_test,rfpred, average='weighted'))\n",
    "print(a['recall'])"
   ]
  },
  {
   "cell_type": "code",
   "execution_count": 39,
   "metadata": {},
   "outputs": [],
   "source": [
    "# After Feature Sellection\n",
    "Percent =[]\n",
    "Features=[]\n",
    "Total_Recall_Train=[]\n",
    "Total_Recall_Test=[]\n",
    "Min_Recall_Test=[]\n",
    "IndRecall=pd.DataFrame(index=[1,2,3,4,5,6,7])\n",
    "X_train=pd.DataFrame(data=X_train,columns=X.columns)\n",
    "from sklearn.ensemble import RandomForestClassifier\n",
    "for i in ['.01','.02','0.03','0.04','0.05']:\n",
    "    Percent.append(i)\n",
    "    rf = RandomForestClassifier(n_jobs=-1, random_state=42)\n",
    "    rf.fit(X_train,y_train)\n",
    "    feat_imp_RF = rf.feature_importances_\n",
    "    colsrf = X.columns[feat_imp_RF >= np.float(i)]\n",
    "    Features.append(len(colsrf))\n",
    "    rf_imp = RandomForestClassifier(n_jobs=-1, random_state=42)\n",
    "    rf_imp=rf_imp.fit(X_train[colsrf], y_train)\n",
    "    rfpred_imp=rf_imp.predict(X_test[colsrf])\n",
    "    cm= confusion_matrix(y_test,rfpred_imp)\n",
    "    a=pd.DataFrame(data=cm,index=[1,2,3,4,5,6,7], columns=['1','2','3','4','5','6','7'])\n",
    "    a['sum']=a['1']+a['2']+a['3']+a['4']+a['5']+a['6']+a['7']\n",
    "    a['recall']=np.array(np.round(((cm[0][0]/a['sum'][1])*100,(cm[1][1]/a['sum'][2])*100,\n",
    "                                 (cm[2][2]/a['sum'][3])*100,(cm[3][3]/a['sum'][4])*100,\n",
    "                                 (cm[4][4]/a['sum'][5])*100,(cm[5][5]/a['sum'][6])*100,\n",
    "                                 (cm[6][6]/a['sum'][7])*100),2))\n",
    "    trainRF_imp=rf_imp.predict(X_train[colsrf])\n",
    "    Total_Recall_Train.append(recall_score(y_train, trainRF_imp, average='weighted'))\n",
    "    Total_Recall_Test.append(recall_score(y_test,rfpred_imp, average='weighted'))\n",
    "    Min_Recall_Test.append(a['recall'].min())\n",
    "    IndRecall[i]=a['recall']"
   ]
  },
  {
   "cell_type": "code",
   "execution_count": 40,
   "metadata": {},
   "outputs": [
    {
     "name": "stdout",
     "output_type": "stream",
     "text": [
      "  Percent  Features  Total_Recall_Train  Total_Recall_Test  Min_Recall_Test\n",
      "0     .01        15            0.999499           0.944935            87.85\n",
      "1     .02        12            0.999507           0.944752            86.59\n",
      "2    0.03        11            0.999423           0.937213            86.17\n",
      "3    0.04         9            0.999447           0.939233            86.52\n",
      "4    0.05         6            0.999460           0.941556            88.55\n",
      "     .01    .02   0.03   0.04   0.05\n",
      "1  95.07  95.27  94.74  94.96  95.44\n",
      "2  94.33  94.10  93.05  93.36  93.42\n",
      "3  95.84  95.86  95.55  95.26  94.97\n",
      "4  89.93  89.44  91.50  89.32  90.66\n",
      "5  87.85  86.59  86.17  86.52  88.55\n",
      "6  89.65  91.21  90.35  90.40  90.21\n",
      "7  96.26  96.12  95.84  95.69  96.08\n"
     ]
    }
   ],
   "source": [
    "summaryRF= pd.DataFrame({'Percent':Percent,'Features':Features,\n",
    "                      'Total_Recall_Train':Total_Recall_Train,\n",
    "                         'Total_Recall_Test':Total_Recall_Test,'Min_Recall_Test':Min_Recall_Test})\n",
    "print(summaryRF)\n",
    "print(IndRecall)"
   ]
  },
  {
   "cell_type": "markdown",
   "metadata": {},
   "source": [
    "# RandomForest hyperparameter with (95% Variance)"
   ]
  },
  {
   "cell_type": "code",
   "execution_count": 41,
   "metadata": {},
   "outputs": [
    {
     "data": {
      "text/plain": [
       "{'n_estimators': 200, 'criterion': 'entropy'}"
      ]
     },
     "execution_count": 41,
     "metadata": {},
     "output_type": "execute_result"
    }
   ],
   "source": [
    "RFtree = RandomForestClassifier(n_jobs=-1,random_state=42,class_weight='balanced',max_depth=25)\n",
    "RFtree_param = {\"criterion\":[\"gini\", \"entropy\"],'n_estimators':[50,100,150,200]}\n",
    "RFgrid = RandomizedSearchCV(estimator=RFtree, param_distributions=RFtree_param,\n",
    "                          cv = 5,random_state=42)\n",
    "best_parameter_search_RF = RFgrid.fit(X_train[colsrf], y_train)\n",
    "best_parameter_search_RF.best_params_"
   ]
  },
  {
   "cell_type": "code",
   "execution_count": 42,
   "metadata": {},
   "outputs": [
    {
     "data": {
      "image/png": "[encoded data removed]",
      "text/plain": [
       "<Figure size 432x288 with 1 Axes>"
      ]
     },
     "metadata": {
      "needs_background": "light"
     },
     "output_type": "display_data"
    },
    {
     "data": {
      "text/html": [
       "<div>\n",
       "<style scoped>\n",
       "    .dataframe tbody tr th:only-of-type {\n",
       "        vertical-align: middle;\n",
       "    }\n",
       "\n",
       "    .dataframe tbody tr th {\n",
       "        vertical-align: top;\n",
       "    }\n",
       "\n",
       "    .dataframe thead th {\n",
       "        text-align: right;\n",
       "    }\n",
       "</style>\n",
       "<table border=\"1\" class=\"dataframe\">\n",
       "  <thead>\n",
       "    <tr style=\"text-align: right;\">\n",
       "      <th></th>\n",
       "      <th>mean_test_score</th>\n",
       "      <th>param_n_estimators</th>\n",
       "      <th>params</th>\n",
       "    </tr>\n",
       "  </thead>\n",
       "  <tbody>\n",
       "    <tr>\n",
       "      <th>0</th>\n",
       "      <td>0.984696</td>\n",
       "      <td>50</td>\n",
       "      <td>{'n_estimators': 50, 'criterion': 'gini'}</td>\n",
       "    </tr>\n",
       "    <tr>\n",
       "      <th>1</th>\n",
       "      <td>0.985009</td>\n",
       "      <td>100</td>\n",
       "      <td>{'n_estimators': 100, 'criterion': 'gini'}</td>\n",
       "    </tr>\n",
       "    <tr>\n",
       "      <th>2</th>\n",
       "      <td>0.985163</td>\n",
       "      <td>150</td>\n",
       "      <td>{'n_estimators': 150, 'criterion': 'gini'}</td>\n",
       "    </tr>\n",
       "    <tr>\n",
       "      <th>3</th>\n",
       "      <td>0.985262</td>\n",
       "      <td>200</td>\n",
       "      <td>{'n_estimators': 200, 'criterion': 'gini'}</td>\n",
       "    </tr>\n",
       "    <tr>\n",
       "      <th>4</th>\n",
       "      <td>0.985974</td>\n",
       "      <td>50</td>\n",
       "      <td>{'n_estimators': 50, 'criterion': 'entropy'}</td>\n",
       "    </tr>\n",
       "    <tr>\n",
       "      <th>5</th>\n",
       "      <td>0.986269</td>\n",
       "      <td>100</td>\n",
       "      <td>{'n_estimators': 100, 'criterion': 'entropy'}</td>\n",
       "    </tr>\n",
       "    <tr>\n",
       "      <th>6</th>\n",
       "      <td>0.986394</td>\n",
       "      <td>150</td>\n",
       "      <td>{'n_estimators': 150, 'criterion': 'entropy'}</td>\n",
       "    </tr>\n",
       "    <tr>\n",
       "      <th>7</th>\n",
       "      <td>0.986448</td>\n",
       "      <td>200</td>\n",
       "      <td>{'n_estimators': 200, 'criterion': 'entropy'}</td>\n",
       "    </tr>\n",
       "  </tbody>\n",
       "</table>\n",
       "</div>"
      ],
      "text/plain": [
       "   mean_test_score param_n_estimators  \\\n",
       "0         0.984696                 50   \n",
       "1         0.985009                100   \n",
       "2         0.985163                150   \n",
       "3         0.985262                200   \n",
       "4         0.985974                 50   \n",
       "5         0.986269                100   \n",
       "6         0.986394                150   \n",
       "7         0.986448                200   \n",
       "\n",
       "                                          params  \n",
       "0      {'n_estimators': 50, 'criterion': 'gini'}  \n",
       "1     {'n_estimators': 100, 'criterion': 'gini'}  \n",
       "2     {'n_estimators': 150, 'criterion': 'gini'}  \n",
       "3     {'n_estimators': 200, 'criterion': 'gini'}  \n",
       "4   {'n_estimators': 50, 'criterion': 'entropy'}  \n",
       "5  {'n_estimators': 100, 'criterion': 'entropy'}  \n",
       "6  {'n_estimators': 150, 'criterion': 'entropy'}  \n",
       "7  {'n_estimators': 200, 'criterion': 'entropy'}  "
      ]
     },
     "execution_count": 42,
     "metadata": {},
     "output_type": "execute_result"
    }
   ],
   "source": [
    "pd.DataFrame(best_parameter_search_RF.cv_results_)['mean_test_score'].plot()\n",
    "plt.show()\n",
    "pd.DataFrame(best_parameter_search_RF.cv_results_)[['mean_test_score','param_n_estimators','params']]"
   ]
  },
  {
   "cell_type": "code",
   "execution_count": 43,
   "metadata": {},
   "outputs": [
    {
     "name": "stdout",
     "output_type": "stream",
     "text": [
      "Train Recall 0.9997586750902268\n",
      "Test Recall 0.9509018725904167\n",
      "1    95.10\n",
      "2    95.22\n",
      "3    95.10\n",
      "4    91.75\n",
      "5    91.33\n",
      "6    93.26\n",
      "7    97.01\n",
      "Name: recall, dtype: float64\n"
     ]
    }
   ],
   "source": [
    "X_train=pd.DataFrame(data=X_train,columns=X.columns)\n",
    "rf = RandomForestClassifier(n_jobs=-1,criterion='entropy',n_estimators=50,random_state=42,\n",
    "                            class_weight='balanced',max_depth=25)\n",
    "rf.fit(X_train[colsrf],y_train)\n",
    "rfpred=rf.predict(X_test[colsrf])\n",
    "trainRF=rf.predict(X_train[colsrf])\n",
    "cm= confusion_matrix(y_test,rfpred)\n",
    "a=pd.DataFrame(data=cm,index=[1,2,3,4,5,6,7], columns=['1','2','3','4','5','6','7'])\n",
    "a['sum']=a['1']+a['2']+a['3']+a['4']+a['5']+a['6']+a['7']\n",
    "a['recall']=np.array(np.round(((cm[0][0]/a['sum'][1])*100,(cm[1][1]/a['sum'][2])*100,\n",
    "                                 (cm[2][2]/a['sum'][3])*100,(cm[3][3]/a['sum'][4])*100,\n",
    "                                 (cm[4][4]/a['sum'][5])*100,(cm[5][5]/a['sum'][6])*100,\n",
    "                                 (cm[6][6]/a['sum'][7])*100),2))\n",
    "print('Train Recall',recall_score(y_train, trainRF, average='weighted'))\n",
    "print('Test Recall',recall_score(y_test,rfpred, average='weighted'))\n",
    "print(a['recall'])"
   ]
  },
  {
   "cell_type": "code",
   "execution_count": 44,
   "metadata": {},
   "outputs": [
    {
     "name": "stdout",
     "output_type": "stream",
     "text": [
      "The required Columns are: Index(['Elevation', 'Aspect', 'Horizontal_Distance_To_Roadways',\n",
      "       'Horizontal_Distance_To_Fire_Points', 'Distance_To_Hydrology',\n",
      "       'cgzone_87'],\n",
      "      dtype='object')\n"
     ]
    }
   ],
   "source": [
    "print('The required Columns are:',colsrf)"
   ]
  },
  {
   "cell_type": "markdown",
   "metadata": {},
   "source": [
    "# Naive Bayes"
   ]
  },
  {
   "cell_type": "code",
   "execution_count": 11,
   "metadata": {},
   "outputs": [
    {
     "name": "stdout",
     "output_type": "stream",
     "text": [
      "Train Recall 0.26275918535948484\n",
      "Test Recall 0.26285684780613183\n",
      "1    25.65\n",
      "2    24.49\n",
      "3    49.87\n",
      "4    48.79\n",
      "5    34.62\n",
      "6    12.55\n",
      "7    21.34\n",
      "Name: recall, dtype: float64\n"
     ]
    }
   ],
   "source": [
    "from  sklearn.naive_bayes import MultinomialNB\n",
    "NB = MultinomialNB()\n",
    "NB=NB.fit(X_train,y_train)\n",
    "NBpred=NB.predict(X_test)\n",
    "cm= confusion_matrix(y_test,NBpred)\n",
    "a=pd.DataFrame(data=cm,index=[1,2,3,4,5,6,7], columns=['1','2','3','4','5','6','7'])\n",
    "a['sum']=a['1']+a['2']+a['3']+a['4']+a['5']+a['6']+a['7']\n",
    "a['recall']=np.array(np.round(((cm[0][0]/a['sum'][1])*100,(cm[1][1]/a['sum'][2])*100,\n",
    "                                 (cm[2][2]/a['sum'][3])*100,(cm[3][3]/a['sum'][4])*100,\n",
    "                                 (cm[4][4]/a['sum'][5])*100,(cm[5][5]/a['sum'][6])*100,\n",
    "                                 (cm[6][6]/a['sum'][7])*100),2))\n",
    "trainNB=NB.predict(X_train)\n",
    "print('Train Recall',recall_score(y_train, trainNB, average='weighted'))\n",
    "print('Test Recall',recall_score(y_test,NBpred, average='weighted'))\n",
    "print(a['recall'])"
   ]
  },
  {
   "cell_type": "code",
   "execution_count": 12,
   "metadata": {},
   "outputs": [],
   "source": [
    "#Navie Bayes Feature enginered (Not Required Low Recall)"
   ]
  },
  {
   "cell_type": "markdown",
   "metadata": {},
   "source": [
    "# KNN"
   ]
  },
  {
   "cell_type": "code",
   "execution_count": 13,
   "metadata": {},
   "outputs": [
    {
     "data": {
      "text/plain": [
       "{'p': 1, 'n_neighbors': 3, 'leaf_size': 40}"
      ]
     },
     "execution_count": 13,
     "metadata": {},
     "output_type": "execute_result"
    }
   ],
   "source": [
    "from sklearn.neighbors import KNeighborsClassifier\n",
    "knn = KNeighborsClassifier()\n",
    "knn_param = {\"n_neighbors\":[3,4,5,6,7,8],\n",
    "    \"p\":[1,2],\n",
    "    \"leaf_size\":[30,40,50]}\n",
    "knncv = RandomizedSearchCV(estimator=knn, param_distributions=knn_param,\n",
    "                          cv = 5,random_state=42)\n",
    "best_parameter_search_knn = knncv.fit(X_train, y_train)\n",
    "best_parameter_search_knn.best_params_"
   ]
  },
  {
   "cell_type": "code",
   "execution_count": 14,
   "metadata": {},
   "outputs": [
    {
     "data": {
      "image/png": "[encoded data removed]",
      "text/plain": [
       "<Figure size 432x288 with 1 Axes>"
      ]
     },
     "metadata": {
      "needs_background": "light"
     },
     "output_type": "display_data"
    },
    {
     "data": {
      "text/html": [
       "<div>\n",
       "<style scoped>\n",
       "    .dataframe tbody tr th:only-of-type {\n",
       "        vertical-align: middle;\n",
       "    }\n",
       "\n",
       "    .dataframe tbody tr th {\n",
       "        vertical-align: top;\n",
       "    }\n",
       "\n",
       "    .dataframe thead th {\n",
       "        text-align: right;\n",
       "    }\n",
       "</style>\n",
       "<table border=\"1\" class=\"dataframe\">\n",
       "  <thead>\n",
       "    <tr style=\"text-align: right;\">\n",
       "      <th></th>\n",
       "      <th>mean_test_score</th>\n",
       "      <th>param_n_neighbors</th>\n",
       "      <th>params</th>\n",
       "    </tr>\n",
       "  </thead>\n",
       "  <tbody>\n",
       "    <tr>\n",
       "      <td>0</td>\n",
       "      <td>0.945981</td>\n",
       "      <td>8</td>\n",
       "      <td>{'p': 2, 'n_neighbors': 8, 'leaf_size': 50}</td>\n",
       "    </tr>\n",
       "    <tr>\n",
       "      <td>1</td>\n",
       "      <td>0.958139</td>\n",
       "      <td>3</td>\n",
       "      <td>{'p': 2, 'n_neighbors': 3, 'leaf_size': 40}</td>\n",
       "    </tr>\n",
       "    <tr>\n",
       "      <td>2</td>\n",
       "      <td>0.955944</td>\n",
       "      <td>4</td>\n",
       "      <td>{'p': 1, 'n_neighbors': 4, 'leaf_size': 50}</td>\n",
       "    </tr>\n",
       "    <tr>\n",
       "      <td>3</td>\n",
       "      <td>0.954466</td>\n",
       "      <td>6</td>\n",
       "      <td>{'p': 1, 'n_neighbors': 6, 'leaf_size': 50}</td>\n",
       "    </tr>\n",
       "    <tr>\n",
       "      <td>4</td>\n",
       "      <td>0.958461</td>\n",
       "      <td>5</td>\n",
       "      <td>{'p': 1, 'n_neighbors': 5, 'leaf_size': 40}</td>\n",
       "    </tr>\n",
       "    <tr>\n",
       "      <td>5</td>\n",
       "      <td>0.950033</td>\n",
       "      <td>6</td>\n",
       "      <td>{'p': 2, 'n_neighbors': 6, 'leaf_size': 50}</td>\n",
       "    </tr>\n",
       "    <tr>\n",
       "      <td>6</td>\n",
       "      <td>0.950210</td>\n",
       "      <td>7</td>\n",
       "      <td>{'p': 2, 'n_neighbors': 7, 'leaf_size': 40}</td>\n",
       "    </tr>\n",
       "    <tr>\n",
       "      <td>7</td>\n",
       "      <td>0.960928</td>\n",
       "      <td>3</td>\n",
       "      <td>{'p': 1, 'n_neighbors': 3, 'leaf_size': 40}</td>\n",
       "    </tr>\n",
       "    <tr>\n",
       "      <td>8</td>\n",
       "      <td>0.955292</td>\n",
       "      <td>7</td>\n",
       "      <td>{'p': 1, 'n_neighbors': 7, 'leaf_size': 30}</td>\n",
       "    </tr>\n",
       "    <tr>\n",
       "      <td>9</td>\n",
       "      <td>0.954901</td>\n",
       "      <td>5</td>\n",
       "      <td>{'p': 2, 'n_neighbors': 5, 'leaf_size': 40}</td>\n",
       "    </tr>\n",
       "  </tbody>\n",
       "</table>\n",
       "</div>"
      ],
      "text/plain": [
       "   mean_test_score param_n_neighbors  \\\n",
       "0         0.945981                 8   \n",
       "1         0.958139                 3   \n",
       "2         0.955944                 4   \n",
       "3         0.954466                 6   \n",
       "4         0.958461                 5   \n",
       "5         0.950033                 6   \n",
       "6         0.950210                 7   \n",
       "7         0.960928                 3   \n",
       "8         0.955292                 7   \n",
       "9         0.954901                 5   \n",
       "\n",
       "                                        params  \n",
       "0  {'p': 2, 'n_neighbors': 8, 'leaf_size': 50}  \n",
       "1  {'p': 2, 'n_neighbors': 3, 'leaf_size': 40}  \n",
       "2  {'p': 1, 'n_neighbors': 4, 'leaf_size': 50}  \n",
       "3  {'p': 1, 'n_neighbors': 6, 'leaf_size': 50}  \n",
       "4  {'p': 1, 'n_neighbors': 5, 'leaf_size': 40}  \n",
       "5  {'p': 2, 'n_neighbors': 6, 'leaf_size': 50}  \n",
       "6  {'p': 2, 'n_neighbors': 7, 'leaf_size': 40}  \n",
       "7  {'p': 1, 'n_neighbors': 3, 'leaf_size': 40}  \n",
       "8  {'p': 1, 'n_neighbors': 7, 'leaf_size': 30}  \n",
       "9  {'p': 2, 'n_neighbors': 5, 'leaf_size': 40}  "
      ]
     },
     "execution_count": 14,
     "metadata": {},
     "output_type": "execute_result"
    }
   ],
   "source": [
    "pd.DataFrame(best_parameter_search_knn.cv_results_)['mean_test_score'].plot()\n",
    "plt.show()\n",
    "pd.DataFrame(best_parameter_search_knn.cv_results_)[['mean_test_score','param_n_neighbors','params']]"
   ]
  },
  {
   "cell_type": "code",
   "execution_count": 15,
   "metadata": {},
   "outputs": [
    {
     "name": "stdout",
     "output_type": "stream",
     "text": [
      "Train Recall 0.9874848478142741\n",
      "Test Recall 0.9647168165962915\n",
      "1    96.60\n",
      "2    97.12\n",
      "3    96.10\n",
      "4    80.58\n",
      "5    88.41\n",
      "6    92.59\n",
      "7    95.97\n",
      "Name: recall, dtype: float64\n"
     ]
    }
   ],
   "source": [
    "knn=KNeighborsClassifier(n_neighbors=3,p=1,leaf_size=40)\n",
    "knn=knn.fit(X_train,y_train)\n",
    "knnpred=knn.predict(X_test)\n",
    "cm= confusion_matrix(y_test,knnpred)\n",
    "a=pd.DataFrame(data=cm,index=[1,2,3,4,5,6,7], columns=['1','2','3','4','5','6','7'])\n",
    "a['sum']=a['1']+a['2']+a['3']+a['4']+a['5']+a['6']+a['7']\n",
    "a['recall']=np.array(np.round(((cm[0][0]/a['sum'][1])*100,(cm[1][1]/a['sum'][2])*100,\n",
    "                                 (cm[2][2]/a['sum'][3])*100,(cm[3][3]/a['sum'][4])*100,\n",
    "                                 (cm[4][4]/a['sum'][5])*100,(cm[5][5]/a['sum'][6])*100,\n",
    "                                 (cm[6][6]/a['sum'][7])*100),2))\n",
    "trainknn=knn.predict(X_train)\n",
    "print('Train Recall',recall_score(y_train, trainknn, average='weighted'))\n",
    "print('Test Recall',recall_score(y_test,knnpred, average='weighted'))\n",
    "print(a['recall'])"
   ]
  },
  {
   "cell_type": "code",
   "execution_count": 16,
   "metadata": {},
   "outputs": [
    {
     "name": "stdout",
     "output_type": "stream",
     "text": [
      "Train Recall 0.9851391788191499\n",
      "Test Recall 0.9595706352120433\n",
      "1    96.16\n",
      "2    96.68\n",
      "3    95.13\n",
      "4    78.76\n",
      "5    87.04\n",
      "6    91.19\n",
      "7    95.77\n",
      "Name: recall, dtype: float64\n"
     ]
    }
   ],
   "source": [
    "#Using the sellected variables from Random Forest\n",
    "colsrf=['Elevation', 'Aspect', 'Horizontal_Distance_To_Roadways',\n",
    "       'Horizontal_Distance_To_Fire_Points', 'Distance_To_Hydrology',\n",
    "       'cgzone_87']\n",
    "knn=KNeighborsClassifier(n_neighbors=3,p=1,leaf_size=40)\n",
    "knn=knn.fit(X_train[colsrf],y_train)\n",
    "knnpred=knn.predict(X_test[colsrf])\n",
    "cm= confusion_matrix(y_test,knnpred)\n",
    "a=pd.DataFrame(data=cm,index=[1,2,3,4,5,6,7], columns=['1','2','3','4','5','6','7'])\n",
    "a['sum']=a['1']+a['2']+a['3']+a['4']+a['5']+a['6']+a['7']\n",
    "a['recall']=np.array(np.round(((cm[0][0]/a['sum'][1])*100,(cm[1][1]/a['sum'][2])*100,\n",
    "                                 (cm[2][2]/a['sum'][3])*100,(cm[3][3]/a['sum'][4])*100,\n",
    "                                 (cm[4][4]/a['sum'][5])*100,(cm[5][5]/a['sum'][6])*100,\n",
    "                                 (cm[6][6]/a['sum'][7])*100),2))\n",
    "trainknn=knn.predict(X_train[colsrf])\n",
    "print('Train Recall',recall_score(y_train, trainknn, average='weighted'))\n",
    "print('Test Recall',recall_score(y_test,knnpred, average='weighted'))\n",
    "print(a['recall'])"
   ]
  },
  {
   "cell_type": "code",
   "execution_count": null,
   "metadata": {},
   "outputs": [],
   "source": []
  }
 ],
 "metadata": {
  "kernelspec": {
   "display_name": "Python 3",
   "language": "python",
   "name": "python3"
  },
  "language_info": {
   "codemirror_mode": {
    "name": "ipython",
    "version": 3
   },
   "file_extension": ".py",
   "mimetype": "text/x-python",
   "name": "python",
   "nbconvert_exporter": "python",
   "pygments_lexer": "ipython3",
   "version": "3.7.4"
  }
 },
 "nbformat": 4,
 "nbformat_minor": 2
}
