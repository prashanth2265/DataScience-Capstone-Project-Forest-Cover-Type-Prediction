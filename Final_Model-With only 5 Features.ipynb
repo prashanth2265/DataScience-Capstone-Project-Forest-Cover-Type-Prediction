{
 "cells": [
  {
   "cell_type": "code",
   "execution_count": 30,
   "metadata": {},
   "outputs": [],
   "source": [
    "import pandas as pd\n",
    "import numpy as np\n",
    "import seaborn as sns\n",
    "import matplotlib.pyplot as plt\n",
    "import warnings\n",
    "warnings.filterwarnings(\"ignore\")\n",
    "from imblearn.over_sampling import SMOTE\n",
    "from sklearn.metrics import confusion_matrix\n",
    "from sklearn.model_selection import train_test_split\n",
    "from sklearn import metrics\n",
    "from sklearn.ensemble import RandomForestClassifier\n",
    "from sklearn.model_selection import RandomizedSearchCV"
   ]
  },
  {
   "cell_type": "code",
   "execution_count": 31,
   "metadata": {},
   "outputs": [],
   "source": [
    "df=pd.read_csv(\"C:/Users/prash/Pictures/Group 4_ForestCoverType/covtype.csv\")\n",
    "df.columns=['Elevation','Aspect','Slope','Horizontal_Distance_To_Hydrology',\n",
    "                        'Vertical_Distance_To_Hydrology','Horizontal_Distance_To_Roadways',\n",
    "                        'Hillshade_9am','Hillshade_Noon','Hillshade_3pm',\n",
    "                        'Horizontal_Distance_To_Fire_Points','Rawah_Wilderness_Area','Neota_Wilderness_Area',\n",
    "            'Comanche_Peak_Wilderness_Area','Cache_la_Poudre_Wilderness_Area',\"Soil_code_2702\",\n",
    "                        \"Soil_code_2703\",\"Soil_code_2704\",\"Soil_code_2705\",\"Soil_code_2706\",\"Soil_code_2717\",\n",
    "                        \"Soil_code_3501\",\"Soil_code_3502\",\"Soil_code_4201\",\"Soil_code_4703\",\"Soil_code_4704\",\n",
    "                        \"Soil_code_4744\",\"Soil_code_4758\",\"Soil_code_5101\",\"Soil_code_5151\",\"Soil_code_6101\",\n",
    "                        \"Soil_code_6102\",\"Soil_code_6731\",\"Soil_code_7101\",\"Soil_code_7102\",\"Soil_code_7103\",\n",
    "                        \"Soil_code_7201\",\"Soil_code_7202\",\"Soil_code_7700\",\"Soil_code_7701\",\"Soil_code_7702\",\n",
    "                        \"Soil_code_7709\",\"Soil_code_7710\",\"Soil_code_7745\",\"Soil_code_7746\",\"Soil_code_7755\",\n",
    "                        \"Soil_code_7756\",\"Soil_code_7757\",\"Soil_code_7790\",\"Soil_code_8703\",\"Soil_code_8707\",\n",
    "                        \"Soil_code_8708\",\"Soil_code_8771\",\"Soil_code_8772\",\"Soil_code_8776\",'Cover_Type']"
   ]
  },
  {
   "cell_type": "code",
   "execution_count": 32,
   "metadata": {
    "scrolled": true
   },
   "outputs": [],
   "source": [
    "df['Distance_To_Hydrology']=np.round(np.sqrt(df['Horizontal_Distance_To_Hydrology']**2+\n",
    "                                             df['Vertical_Distance_To_Hydrology']**2),2)"
   ]
  },
  {
   "cell_type": "code",
   "execution_count": 33,
   "metadata": {},
   "outputs": [],
   "source": [
    "df.drop(['Slope','Horizontal_Distance_To_Hydrology',\n",
    "                        'Vertical_Distance_To_Hydrology',\n",
    "                        'Hillshade_9am','Hillshade_Noon','Hillshade_3pm',\n",
    "                        'Rawah_Wilderness_Area','Neota_Wilderness_Area',\n",
    "            'Comanche_Peak_Wilderness_Area','Cache_la_Poudre_Wilderness_Area',\"Soil_code_2702\",\n",
    "                        \"Soil_code_2703\",\"Soil_code_2704\",\"Soil_code_2705\",\"Soil_code_2706\",\"Soil_code_2717\",\n",
    "                        \"Soil_code_3501\",\"Soil_code_3502\",\"Soil_code_4201\",\"Soil_code_4703\",\"Soil_code_4704\",\n",
    "                        \"Soil_code_4744\",\"Soil_code_4758\",\"Soil_code_5101\",\"Soil_code_5151\",\"Soil_code_6101\",\n",
    "                        \"Soil_code_6102\",\"Soil_code_6731\",\"Soil_code_7101\",\"Soil_code_7102\",\"Soil_code_7103\",\n",
    "                        \"Soil_code_7201\",\"Soil_code_7202\",\"Soil_code_7700\",\"Soil_code_7701\",\"Soil_code_7702\",\n",
    "                        \"Soil_code_7709\",\"Soil_code_7710\",\"Soil_code_7745\",\"Soil_code_7746\",\"Soil_code_7755\",\n",
    "                        \"Soil_code_7756\",\"Soil_code_7757\",\"Soil_code_7790\",\"Soil_code_8703\",\"Soil_code_8707\",\n",
    "                        \"Soil_code_8708\",\"Soil_code_8771\",\"Soil_code_8772\",\"Soil_code_8776\"],axis=1,inplace=True)"
   ]
  },
  {
   "cell_type": "code",
   "execution_count": 34,
   "metadata": {},
   "outputs": [],
   "source": [
    "pd.set_option('display.max_columns',None)\n",
    "colsrf=['Elevation', 'Aspect', 'Horizontal_Distance_To_Roadways',\n",
    "       'Horizontal_Distance_To_Fire_Points', 'Distance_To_Hydrology']"
   ]
  },
  {
   "cell_type": "code",
   "execution_count": 35,
   "metadata": {},
   "outputs": [
    {
     "data": {
      "text/html": [
       "<div>\n",
       "<style scoped>\n",
       "    .dataframe tbody tr th:only-of-type {\n",
       "        vertical-align: middle;\n",
       "    }\n",
       "\n",
       "    .dataframe tbody tr th {\n",
       "        vertical-align: top;\n",
       "    }\n",
       "\n",
       "    .dataframe thead th {\n",
       "        text-align: right;\n",
       "    }\n",
       "</style>\n",
       "<table border=\"1\" class=\"dataframe\">\n",
       "  <thead>\n",
       "    <tr style=\"text-align: right;\">\n",
       "      <th></th>\n",
       "      <th>Elevation</th>\n",
       "      <th>Aspect</th>\n",
       "      <th>Horizontal_Distance_To_Roadways</th>\n",
       "      <th>Horizontal_Distance_To_Fire_Points</th>\n",
       "      <th>Cover_Type</th>\n",
       "      <th>Distance_To_Hydrology</th>\n",
       "    </tr>\n",
       "  </thead>\n",
       "  <tbody>\n",
       "    <tr>\n",
       "      <td>0</td>\n",
       "      <td>2590</td>\n",
       "      <td>56</td>\n",
       "      <td>390</td>\n",
       "      <td>6225</td>\n",
       "      <td>5</td>\n",
       "      <td>212.08</td>\n",
       "    </tr>\n",
       "    <tr>\n",
       "      <td>1</td>\n",
       "      <td>2804</td>\n",
       "      <td>139</td>\n",
       "      <td>3180</td>\n",
       "      <td>6121</td>\n",
       "      <td>2</td>\n",
       "      <td>275.77</td>\n",
       "    </tr>\n",
       "    <tr>\n",
       "      <td>2</td>\n",
       "      <td>2785</td>\n",
       "      <td>155</td>\n",
       "      <td>3090</td>\n",
       "      <td>6211</td>\n",
       "      <td>2</td>\n",
       "      <td>269.24</td>\n",
       "    </tr>\n",
       "    <tr>\n",
       "      <td>3</td>\n",
       "      <td>2595</td>\n",
       "      <td>45</td>\n",
       "      <td>391</td>\n",
       "      <td>6172</td>\n",
       "      <td>5</td>\n",
       "      <td>153.00</td>\n",
       "    </tr>\n",
       "    <tr>\n",
       "      <td>4</td>\n",
       "      <td>2579</td>\n",
       "      <td>132</td>\n",
       "      <td>67</td>\n",
       "      <td>6031</td>\n",
       "      <td>2</td>\n",
       "      <td>300.37</td>\n",
       "    </tr>\n",
       "  </tbody>\n",
       "</table>\n",
       "</div>"
      ],
      "text/plain": [
       "   Elevation  Aspect  Horizontal_Distance_To_Roadways  \\\n",
       "0       2590      56                              390   \n",
       "1       2804     139                             3180   \n",
       "2       2785     155                             3090   \n",
       "3       2595      45                              391   \n",
       "4       2579     132                               67   \n",
       "\n",
       "   Horizontal_Distance_To_Fire_Points  Cover_Type  Distance_To_Hydrology  \n",
       "0                                6225           5                 212.08  \n",
       "1                                6121           2                 275.77  \n",
       "2                                6211           2                 269.24  \n",
       "3                                6172           5                 153.00  \n",
       "4                                6031           2                 300.37  "
      ]
     },
     "execution_count": 35,
     "metadata": {},
     "output_type": "execute_result"
    }
   ],
   "source": [
    "df.head()"
   ]
  },
  {
   "cell_type": "markdown",
   "metadata": {},
   "source": [
    "## Train Test Split with Statification"
   ]
  },
  {
   "cell_type": "code",
   "execution_count": 36,
   "metadata": {},
   "outputs": [
    {
     "data": {
      "text/html": [
       "<div>\n",
       "<style scoped>\n",
       "    .dataframe tbody tr th:only-of-type {\n",
       "        vertical-align: middle;\n",
       "    }\n",
       "\n",
       "    .dataframe tbody tr th {\n",
       "        vertical-align: top;\n",
       "    }\n",
       "\n",
       "    .dataframe thead th {\n",
       "        text-align: right;\n",
       "    }\n",
       "</style>\n",
       "<table border=\"1\" class=\"dataframe\">\n",
       "  <thead>\n",
       "    <tr style=\"text-align: right;\">\n",
       "      <th></th>\n",
       "      <th>Population</th>\n",
       "      <th>Train</th>\n",
       "      <th>Test</th>\n",
       "    </tr>\n",
       "  </thead>\n",
       "  <tbody>\n",
       "    <tr>\n",
       "      <td>2</td>\n",
       "      <td>48.760006</td>\n",
       "      <td>48.759918</td>\n",
       "      <td>48.760212</td>\n",
       "    </tr>\n",
       "    <tr>\n",
       "      <td>1</td>\n",
       "      <td>36.460583</td>\n",
       "      <td>36.460646</td>\n",
       "      <td>36.460437</td>\n",
       "    </tr>\n",
       "    <tr>\n",
       "      <td>3</td>\n",
       "      <td>6.153756</td>\n",
       "      <td>6.153816</td>\n",
       "      <td>6.153617</td>\n",
       "    </tr>\n",
       "    <tr>\n",
       "      <td>7</td>\n",
       "      <td>3.530054</td>\n",
       "      <td>3.530060</td>\n",
       "      <td>3.530039</td>\n",
       "    </tr>\n",
       "    <tr>\n",
       "      <td>6</td>\n",
       "      <td>2.989100</td>\n",
       "      <td>2.989130</td>\n",
       "      <td>2.989031</td>\n",
       "    </tr>\n",
       "    <tr>\n",
       "      <td>5</td>\n",
       "      <td>1.633704</td>\n",
       "      <td>1.633608</td>\n",
       "      <td>1.633927</td>\n",
       "    </tr>\n",
       "    <tr>\n",
       "      <td>4</td>\n",
       "      <td>0.472797</td>\n",
       "      <td>0.472822</td>\n",
       "      <td>0.472737</td>\n",
       "    </tr>\n",
       "  </tbody>\n",
       "</table>\n",
       "</div>"
      ],
      "text/plain": [
       "   Population      Train       Test\n",
       "2   48.760006  48.759918  48.760212\n",
       "1   36.460583  36.460646  36.460437\n",
       "3    6.153756   6.153816   6.153617\n",
       "7    3.530054   3.530060   3.530039\n",
       "6    2.989100   2.989130   2.989031\n",
       "5    1.633704   1.633608   1.633927\n",
       "4    0.472797   0.472822   0.472737"
      ]
     },
     "execution_count": 36,
     "metadata": {},
     "output_type": "execute_result"
    }
   ],
   "source": [
    "from sklearn.model_selection import train_test_split\n",
    "X=df.drop('Cover_Type',1)\n",
    "y=df['Cover_Type']\n",
    "X_train, X_test, y_train, y_test = train_test_split(X, y, test_size=0.30, random_state=42,\n",
    "                                                            stratify=df['Cover_Type'])\n",
    "# dd=pd.concat([X_working,y_working],axis=1)\n",
    "pd.concat([df['Cover_Type'].value_counts(normalize=True).mul(100),y_train.value_counts(normalize=True).mul(100)\n",
    "          ,y_test.value_counts(normalize=True).mul(100)],axis=1, keys=['Population','Train','Test'])"
   ]
  },
  {
   "cell_type": "markdown",
   "metadata": {},
   "source": [
    "## Balancing Using SMOTE"
   ]
  },
  {
   "cell_type": "code",
   "execution_count": 37,
   "metadata": {},
   "outputs": [],
   "source": [
    "sm = SMOTE(random_state=42)\n",
    "X_res, y_res = X_train, y_train \n",
    "X_train, y_train = sm.fit_resample(X_res, y_res)\n",
    "X_train=pd.DataFrame(data=X_train, columns=X.columns)"
   ]
  },
  {
   "cell_type": "code",
   "execution_count": 38,
   "metadata": {},
   "outputs": [
    {
     "name": "stdout",
     "output_type": "stream",
     "text": [
      "X_train.shape (1388170, 5)\n",
      "y_train.shape (1388170,)\n"
     ]
    }
   ],
   "source": [
    "print('X_train.shape',X_train.shape)\n",
    "print('y_train.shape',y_train.shape)"
   ]
  },
  {
   "cell_type": "markdown",
   "metadata": {},
   "source": [
    "### Running the Final Model with Hyperparameters"
   ]
  },
  {
   "cell_type": "code",
   "execution_count": 39,
   "metadata": {},
   "outputs": [
    {
     "name": "stdout",
     "output_type": "stream",
     "text": [
      "The Hyper Parameters are: criterion='entropy',n_estimators=50,random_state=42,class_weight='balanced',max_depth=25\n",
      "Train Recall 0.9998364753596461\n",
      "Test Recall 0.9550670093629521\n"
     ]
    }
   ],
   "source": [
    "X_train=pd.DataFrame(data=X_train,columns=X.columns)\n",
    "rf = RandomForestClassifier(n_jobs=-1,criterion='entropy',n_estimators=50,random_state=42,\n",
    "                            class_weight='balanced',max_depth=25)\n",
    "rf.fit(X_train,y_train)\n",
    "rfpred=rf.predict(X_test)\n",
    "trainRF=rf.predict(X_train)\n",
    "cm= confusion_matrix(y_test,rfpred)\n",
    "print(\"The Hyper Parameters are: criterion='entropy',n_estimators=50,random_state=42,class_weight='balanced',max_depth=25\")\n",
    "print('Train Recall',metrics.recall_score(y_train, trainRF, average='weighted'))\n",
    "print('Test Recall',metrics.recall_score(y_test,rfpred, average='weighted'))"
   ]
  },
  {
   "cell_type": "markdown",
   "metadata": {},
   "source": [
    "# Metrics"
   ]
  },
  {
   "cell_type": "code",
   "execution_count": 40,
   "metadata": {},
   "outputs": [
    {
     "name": "stdout",
     "output_type": "stream",
     "text": [
      "The accuracy of the Train is:  0.9998364753596461\n",
      "The accuracy of the Test is:  0.9550670093629521\n"
     ]
    }
   ],
   "source": [
    "print(\"The accuracy of the Train is: \", metrics.accuracy_score(y_train, trainRF))\n",
    "print(\"The accuracy of the Test is: \", metrics.accuracy_score(y_test,rfpred))"
   ]
  },
  {
   "cell_type": "code",
   "execution_count": 41,
   "metadata": {},
   "outputs": [
    {
     "name": "stdout",
     "output_type": "stream",
     "text": [
      "The f1_weighted of the Train is:  0.9998364581975809\n",
      "The f1_weighted of the Test is:  0.9551662273823236\n"
     ]
    }
   ],
   "source": [
    "print(\"The f1_weighted of the Train is: \", metrics.f1_score(y_train, trainRF,average='weighted'))\n",
    "print(\"The f1_weighted of the Test is: \", metrics.f1_score(y_test,rfpred,average='weighted'))"
   ]
  },
  {
   "cell_type": "code",
   "execution_count": 42,
   "metadata": {},
   "outputs": [
    {
     "name": "stdout",
     "output_type": "stream",
     "text": [
      "The f1_weighted of the Train is:  0.9998364581975809\n",
      "The f1_weighted of the Test is:  0.9551662273823236\n"
     ]
    }
   ],
   "source": [
    "print(\"The f1_weighted of the Train is: \", metrics.f1_score(y_train, trainRF,average='weighted'))\n",
    "print(\"The f1_weighted of the Test is: \", metrics.f1_score(y_test,rfpred,average='weighted'))"
   ]
  },
  {
   "cell_type": "code",
   "execution_count": 43,
   "metadata": {},
   "outputs": [
    {
     "name": "stdout",
     "output_type": "stream",
     "text": [
      "              precision    recall  f1-score   support\n",
      "\n",
      "           1       0.96      0.96      0.96     63552\n",
      "           2       0.97      0.96      0.96     84991\n",
      "           3       0.93      0.95      0.94     10726\n",
      "           4       0.84      0.92      0.88       824\n",
      "           5       0.86      0.91      0.88      2848\n",
      "           6       0.89      0.93      0.91      5210\n",
      "           7       0.95      0.98      0.96      6153\n",
      "\n",
      "    accuracy                           0.96    174304\n",
      "   macro avg       0.91      0.94      0.93    174304\n",
      "weighted avg       0.96      0.96      0.96    174304\n",
      "\n"
     ]
    }
   ],
   "source": [
    "print(metrics.classification_report(y_test,rfpred))"
   ]
  },
  {
   "cell_type": "code",
   "execution_count": 44,
   "metadata": {},
   "outputs": [
    {
     "data": {
      "text/plain": [
       "<matplotlib.axes._subplots.AxesSubplot at 0x240162c6b88>"
      ]
     },
     "execution_count": 44,
     "metadata": {},
     "output_type": "execute_result"
    },
    {
     "data": {
      "image/png": "[encoded data removed]",
      "text/plain": [
       "<Figure size 1080x720 with 1 Axes>"
      ]
     },
     "metadata": {
      "needs_background": "light"
     },
     "output_type": "display_data"
    }
   ],
   "source": [
    "plt.figure(figsize=(15,10))\n",
    "sns.heatmap(cm, fmt='d', cmap='GnBu', cbar=False, annot=True)"
   ]
  },
  {
   "cell_type": "code",
   "execution_count": 45,
   "metadata": {},
   "outputs": [
    {
     "name": "stdout",
     "output_type": "stream",
     "text": [
      "Misclassified samples: 7832\n"
     ]
    }
   ],
   "source": [
    "misclassified = (y_test!=rfpred).sum()\n",
    "print('Misclassified samples: {}'.format(misclassified))"
   ]
  }
 ],
 "metadata": {
  "kernelspec": {
   "display_name": "Python 3",
   "language": "python",
   "name": "python3"
  },
  "language_info": {
   "codemirror_mode": {
    "name": "ipython",
    "version": 3
   },
   "file_extension": ".py",
   "mimetype": "text/x-python",
   "name": "python",
   "nbconvert_exporter": "python",
   "pygments_lexer": "ipython3",
   "version": "3.7.4"
  }
 },
 "nbformat": 4,
 "nbformat_minor": 2
}
